{
 "cells": [
  {
   "cell_type": "code",
   "execution_count": null,
   "id": "d2f49eec-5560-4b0d-bcb6-e4ed3b434452",
   "metadata": {},
   "outputs": [],
   "source": [
    "# caos na academia - organizacao de equip - Proj Gym\n",
    "# dois tipos de pessoas 1 e 2 guarda no lugar certo e outro que guarda em qualquer lugar\n",
    "# 1 pega e gaurda no lugar (se tiver baguncado ele nao vai organizar ele vai devolver de qualquer jeito) e o tipo 2 sempre devolve de qualquer jeito"
   ]
  },
  {
   "cell_type": "code",
   "execution_count": null,
   "id": "09614c96-548d-47df-9cb9-785dd3cb34eb",
   "metadata": {},
   "outputs": [],
   "source": []
  }
 ],
 "metadata": {
  "kernelspec": {
   "display_name": "Python 3 (ipykernel)",
   "language": "python",
   "name": "python3"
  },
  "language_info": {
   "codemirror_mode": {
    "name": "ipython",
    "version": 3
   },
   "file_extension": ".py",
   "mimetype": "text/x-python",
   "name": "python",
   "nbconvert_exporter": "python",
   "pygments_lexer": "ipython3",
   "version": "3.13.0"
  }
 },
 "nbformat": 4,
 "nbformat_minor": 5
}
