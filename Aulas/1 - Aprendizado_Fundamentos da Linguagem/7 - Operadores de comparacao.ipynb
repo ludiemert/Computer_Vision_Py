{
 "cells": [
  {
   "cell_type": "markdown",
   "id": "4ba9b70b-f555-4b83-94dd-b86282712c42",
   "metadata": {},
   "source": [
    "### Operadores de comparacao\n",
    "\n",
    "##### Operador Descrição Exemplo\n",
    " - == Se os valores de dois operandos forem\n",
    "iguais, a condição torna-se verdadeira.\n",
    "(a == b) não é verdade.\n",
    " - != Se valores de dois operandos não forem\n",
    "iguais, a condição torna-se verdadeira.\n",
    "(a != b) é verdadeiro\n",
    " - se o operador > Se o valor do operando esquerdo for maior\n",
    "que o valor do operando direito, a condição\n",
    "torna-se verdadeira. (a > b) não é verdadeiro.\n",
    " - se o operador  < Se o valor do operando esquerdo for inferior\n",
    "ao valor do operando direito, a condição\n",
    "torna-se verdadeira.\n",
    "(a < b) é verdadeiro.\n",
    " - se o operador  >= Se o valor do operando esquerdo for maior\n",
    "ou igual ao valor do operando direito, a\n",
    "condição torna-se verdadeira.\n",
    "(a >= b) não é verdadeiro.\n",
    " - <= Se o valor do operando esquerdo for menor\n",
    "ou igual ao valor do operando direito, a\n",
    "condição torna-se verdadeira.\n",
    "(a <= b) é verdadeiro"
   ]
  },
  {
   "cell_type": "markdown",
   "id": "f95f33c7-4a61-4769-b41f-219aa446922f",
   "metadata": {},
   "source": [
    "### Igualdade"
   ]
  },
  {
   "cell_type": "code",
   "execution_count": 1,
   "id": "888ca050-cc6a-4b6c-9783-47d69837c673",
   "metadata": {},
   "outputs": [
    {
     "data": {
      "text/plain": [
       "True"
      ]
     },
     "execution_count": 1,
     "metadata": {},
     "output_type": "execute_result"
    }
   ],
   "source": [
    "2 == 2"
   ]
  },
  {
   "cell_type": "code",
   "execution_count": 2,
   "id": "8f266756-8b3d-401e-8b34-ea18f3a71729",
   "metadata": {},
   "outputs": [
    {
     "data": {
      "text/plain": [
       "False"
      ]
     },
     "execution_count": 2,
     "metadata": {},
     "output_type": "execute_result"
    }
   ],
   "source": [
    "1 == 0 "
   ]
  },
  {
   "cell_type": "markdown",
   "id": "4e585e09-d0e6-42c8-a3d1-8b9ffb4afc64",
   "metadata": {},
   "source": [
    "### Desigualdade"
   ]
  },
  {
   "cell_type": "code",
   "execution_count": 3,
   "id": "cbb9f9b0-0208-4897-a653-1fd3d4e99991",
   "metadata": {},
   "outputs": [
    {
     "data": {
      "text/plain": [
       "True"
      ]
     },
     "execution_count": 3,
     "metadata": {},
     "output_type": "execute_result"
    }
   ],
   "source": [
    "2 != 1"
   ]
  },
  {
   "cell_type": "code",
   "execution_count": 4,
   "id": "cdd9543c-e7a9-4212-9fe1-eb2ac6679a9b",
   "metadata": {},
   "outputs": [
    {
     "data": {
      "text/plain": [
       "False"
      ]
     },
     "execution_count": 4,
     "metadata": {},
     "output_type": "execute_result"
    }
   ],
   "source": [
    "2 != 2 "
   ]
  },
  {
   "cell_type": "code",
   "execution_count": 6,
   "id": "8baa2c88-c885-4713-a793-b6e7249361e5",
   "metadata": {},
   "outputs": [
    {
     "data": {
      "text/plain": [
       "True"
      ]
     },
     "execution_count": 6,
     "metadata": {},
     "output_type": "execute_result"
    }
   ],
   "source": [
    "\"str\" == \"str\""
   ]
  },
  {
   "cell_type": "code",
   "execution_count": 7,
   "id": "3efa901b-aa97-4e53-9cb1-200296a1b6ae",
   "metadata": {},
   "outputs": [
    {
     "data": {
      "text/plain": [
       "True"
      ]
     },
     "execution_count": 7,
     "metadata": {},
     "output_type": "execute_result"
    }
   ],
   "source": [
    "2 < 4"
   ]
  },
  {
   "cell_type": "code",
   "execution_count": 8,
   "id": "5693b521-0ae4-4421-b926-5f3cc69d8ab7",
   "metadata": {},
   "outputs": [
    {
     "data": {
      "text/plain": [
       "False"
      ]
     },
     "execution_count": 8,
     "metadata": {},
     "output_type": "execute_result"
    }
   ],
   "source": [
    "2 > 4 "
   ]
  },
  {
   "cell_type": "code",
   "execution_count": 9,
   "id": "572e5f5c-fd07-49a8-98fd-4f808fa3c81f",
   "metadata": {},
   "outputs": [
    {
     "data": {
      "text/plain": [
       "True"
      ]
     },
     "execution_count": 9,
     "metadata": {},
     "output_type": "execute_result"
    }
   ],
   "source": [
    "2 >= 2 "
   ]
  },
  {
   "cell_type": "code",
   "execution_count": 10,
   "id": "01b08faf-7bab-437b-8137-d0dfb448e72f",
   "metadata": {},
   "outputs": [
    {
     "data": {
      "text/plain": [
       "True"
      ]
     },
     "execution_count": 10,
     "metadata": {},
     "output_type": "execute_result"
    }
   ],
   "source": [
    "2 <= 2"
   ]
  },
  {
   "cell_type": "code",
   "execution_count": null,
   "id": "5833d1bf-09cd-415b-b0ae-bf09c8d49cdc",
   "metadata": {},
   "outputs": [],
   "source": []
  }
 ],
 "metadata": {
  "kernelspec": {
   "display_name": "Python 3 (ipykernel)",
   "language": "python",
   "name": "python3"
  },
  "language_info": {
   "codemirror_mode": {
    "name": "ipython",
    "version": 3
   },
   "file_extension": ".py",
   "mimetype": "text/x-python",
   "name": "python",
   "nbconvert_exporter": "python",
   "pygments_lexer": "ipython3",
   "version": "3.13.0"
  }
 },
 "nbformat": 4,
 "nbformat_minor": 5
}
