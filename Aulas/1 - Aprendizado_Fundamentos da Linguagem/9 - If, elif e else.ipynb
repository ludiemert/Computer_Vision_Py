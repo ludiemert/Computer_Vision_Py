{
 "cells": [
  {
   "cell_type": "markdown",
   "id": "35ec8546-018a-428b-a8cb-4125ff005fef",
   "metadata": {},
   "source": [
    "## If, elif e else => controle de fluxo => tomar decisoes no programa"
   ]
  },
  {
   "cell_type": "markdown",
   "id": "fb0d08d0-26c6-41c9-92cc-0da97e74aef4",
   "metadata": {},
   "source": [
    "print(\"Qual a temperatura?\")\n",
    "temperatura = float(input())\n",
    "if temperatura > 30:\n",
    "    print(\"Esta quente🥵 \")"
   ]
  },
  {
   "cell_type": "markdown",
   "id": "1006e900-d635-4ea5-812b-531c3a80ecda",
   "metadata": {},
   "source": [
    " elif temp < 0:    => se for false ele check outra pergunta\n",
    " else: # ele executa caso nenhuma seja verdadeira, ele sempre executa alguma coisa dentro do if ou do elif\n",
    " "
   ]
  },
  {
   "cell_type": "code",
   "execution_count": 4,
   "id": "cab78d3e-452d-4497-8fbf-76ea046a206b",
   "metadata": {},
   "outputs": [
    {
     "name": "stdout",
     "output_type": "stream",
     "text": [
      "A temperatura esta normal\n"
     ]
    }
   ],
   "source": [
    "temp = 5\n",
    "\n",
    "if temp >= 30: \n",
    "    print(\"Esta quente🥵 \")\n",
    "\n",
    "elif temp < 0:   \n",
    "    print(\"Esta muito frio🥶 \")\n",
    "\n",
    "else: \n",
    "    print(\"A temperatura esta normal\")\n",
    "\n"
   ]
  },
  {
   "cell_type": "code",
   "execution_count": null,
   "id": "ae960d52-2364-446c-ac89-47b58e3f6e60",
   "metadata": {},
   "outputs": [],
   "source": []
  },
  {
   "cell_type": "code",
   "execution_count": null,
   "id": "a6844e9f-968d-413c-9d4d-907b5ca148ee",
   "metadata": {},
   "outputs": [],
   "source": []
  }
 ],
 "metadata": {
  "kernelspec": {
   "display_name": "Python 3 (ipykernel)",
   "language": "python",
   "name": "python3"
  },
  "language_info": {
   "codemirror_mode": {
    "name": "ipython",
    "version": 3
   },
   "file_extension": ".py",
   "mimetype": "text/x-python",
   "name": "python",
   "nbconvert_exporter": "python",
   "pygments_lexer": "ipython3",
   "version": "3.13.0"
  }
 },
 "nbformat": 4,
 "nbformat_minor": 5
}
