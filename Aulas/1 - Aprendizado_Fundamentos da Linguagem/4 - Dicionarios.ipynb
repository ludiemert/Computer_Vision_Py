{
 "cells": [
  {
   "cell_type": "markdown",
   "id": "3c0e566d-bc30-47e9-8fb4-20f88df6f7a6",
   "metadata": {},
   "source": [
    "## Dicionarios de Python = pares de dados => {\"\", \"\"}"
   ]
  },
  {
   "cell_type": "code",
   "execution_count": 1,
   "id": "6b0d208b-b40c-47f2-8952-ed248caebc62",
   "metadata": {},
   "outputs": [],
   "source": [
    "meu_Dicionario = {\"nome\": \"Paulo\", \"idade\": 29, \"filhos\": [\"Joao\", \"Maria\"] }"
   ]
  },
  {
   "cell_type": "code",
   "execution_count": 2,
   "id": "d3d9646d-1908-43e8-95db-1e628193ba88",
   "metadata": {},
   "outputs": [
    {
     "data": {
      "text/plain": [
       "{'nome': 'Paulo', 'idade': 29, 'filhos': ['Joao', 'Maria']}"
      ]
     },
     "execution_count": 2,
     "metadata": {},
     "output_type": "execute_result"
    }
   ],
   "source": [
    "meu_Dicionario"
   ]
  },
  {
   "cell_type": "code",
   "execution_count": 3,
   "id": "99a24da5-660c-4bc7-ae1f-2e910c5b8241",
   "metadata": {},
   "outputs": [
    {
     "data": {
      "text/plain": [
       "29"
      ]
     },
     "execution_count": 3,
     "metadata": {},
     "output_type": "execute_result"
    }
   ],
   "source": [
    "meu_Dicionario[\"idade\"]"
   ]
  },
  {
   "cell_type": "code",
   "execution_count": 4,
   "id": "9b5e7e27-48b5-49b9-9b3b-ea0807924af2",
   "metadata": {},
   "outputs": [],
   "source": [
    "meu_Dicionario[\"idade\"] = 31"
   ]
  },
  {
   "cell_type": "code",
   "execution_count": 5,
   "id": "7ba5f4bc-9de8-4cf8-9fc4-801e278dbd55",
   "metadata": {},
   "outputs": [
    {
     "data": {
      "text/plain": [
       "{'nome': 'Paulo', 'idade': 31, 'filhos': ['Joao', 'Maria']}"
      ]
     },
     "execution_count": 5,
     "metadata": {},
     "output_type": "execute_result"
    }
   ],
   "source": [
    "meu_Dicionario"
   ]
  },
  {
   "cell_type": "code",
   "execution_count": 6,
   "id": "5d51d989-74f6-4116-a40a-b702167eda84",
   "metadata": {},
   "outputs": [],
   "source": [
    "meu_Dicionario[\"cidade\"] = \"Sao Paulo\""
   ]
  },
  {
   "cell_type": "code",
   "execution_count": 7,
   "id": "3f20c21f-2a59-4f01-9e66-b6d171473451",
   "metadata": {},
   "outputs": [
    {
     "data": {
      "text/plain": [
       "{'nome': 'Paulo',\n",
       " 'idade': 31,\n",
       " 'filhos': ['Joao', 'Maria'],\n",
       " 'cidade': 'Sao Paulo'}"
      ]
     },
     "execution_count": 7,
     "metadata": {},
     "output_type": "execute_result"
    }
   ],
   "source": [
    "meu_Dicionario"
   ]
  },
  {
   "cell_type": "code",
   "execution_count": 8,
   "id": "cb28d632-1bc0-4a4c-ae94-f082679e3289",
   "metadata": {},
   "outputs": [],
   "source": [
    "meu_Dicionario[\"add variavel aleatoria\"] = {\"a\": 1, \"b\": 2}"
   ]
  },
  {
   "cell_type": "code",
   "execution_count": 9,
   "id": "70e96dad-890d-4d89-9d18-a050d35459fc",
   "metadata": {},
   "outputs": [
    {
     "data": {
      "text/plain": [
       "{'nome': 'Paulo',\n",
       " 'idade': 31,\n",
       " 'filhos': ['Joao', 'Maria'],\n",
       " 'cidade': 'Sao Paulo',\n",
       " 'add variavel aleatoria': {'a': 1, 'b': 2}}"
      ]
     },
     "execution_count": 9,
     "metadata": {},
     "output_type": "execute_result"
    }
   ],
   "source": [
    "meu_Dicionario"
   ]
  },
  {
   "cell_type": "code",
   "execution_count": 10,
   "id": "ecf5ca70-2be0-4a92-a152-267e3bb1be6b",
   "metadata": {},
   "outputs": [
    {
     "data": {
      "text/plain": [
       "dict_keys(['nome', 'idade', 'filhos', 'cidade', 'add variavel aleatoria'])"
      ]
     },
     "execution_count": 10,
     "metadata": {},
     "output_type": "execute_result"
    }
   ],
   "source": [
    "meu_Dicionario.keys()"
   ]
  },
  {
   "cell_type": "code",
   "execution_count": 11,
   "id": "4e23ea65-8e24-4380-9257-01b8f282155e",
   "metadata": {},
   "outputs": [
    {
     "data": {
      "text/plain": [
       "dict_values(['Paulo', 31, ['Joao', 'Maria'], 'Sao Paulo', {'a': 1, 'b': 2}])"
      ]
     },
     "execution_count": 11,
     "metadata": {},
     "output_type": "execute_result"
    }
   ],
   "source": [
    "meu_Dicionario.values()"
   ]
  },
  {
   "cell_type": "code",
   "execution_count": 13,
   "id": "cdc09819-c088-498a-a936-36bc65ea9b53",
   "metadata": {},
   "outputs": [
    {
     "data": {
      "text/plain": [
       "dict_items([('nome', 'Paulo'), ('idade', 31), ('filhos', ['Joao', 'Maria']), ('cidade', 'Sao Paulo'), ('add variavel aleatoria', {'a': 1, 'b': 2})])"
      ]
     },
     "execution_count": 13,
     "metadata": {},
     "output_type": "execute_result"
    }
   ],
   "source": [
    "meu_Dicionario.items()"
   ]
  },
  {
   "cell_type": "code",
   "execution_count": null,
   "id": "73a28281-87ab-424c-85bb-c3913e39442a",
   "metadata": {},
   "outputs": [],
   "source": []
  }
 ],
 "metadata": {
  "kernelspec": {
   "display_name": "Python 3 (ipykernel)",
   "language": "python",
   "name": "python3"
  },
  "language_info": {
   "codemirror_mode": {
    "name": "ipython",
    "version": 3
   },
   "file_extension": ".py",
   "mimetype": "text/x-python",
   "name": "python",
   "nbconvert_exporter": "python",
   "pygments_lexer": "ipython3",
   "version": "3.13.0"
  }
 },
 "nbformat": 4,
 "nbformat_minor": 5
}
