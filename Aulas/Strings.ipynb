{
 "cells": [
  {
   "cell_type": "code",
   "execution_count": 1,
   "id": "95284a16-3ba6-4883-abbc-c2f0dd877e65",
   "metadata": {},
   "outputs": [],
   "source": [
    "minha_string = \"hello\""
   ]
  },
  {
   "cell_type": "code",
   "execution_count": 2,
   "id": "f8f0b444-1f26-48c2-a32f-f81a698ead62",
   "metadata": {},
   "outputs": [
    {
     "data": {
      "text/plain": [
       "'hello'"
      ]
     },
     "execution_count": 2,
     "metadata": {},
     "output_type": "execute_result"
    }
   ],
   "source": [
    "minha_string"
   ]
  },
  {
   "cell_type": "code",
   "execution_count": 3,
   "id": "c3342fce-319d-421b-873e-1fd4133177fe",
   "metadata": {},
   "outputs": [],
   "source": [
    "minha_string3 = 'hello \"vamos testar\"'"
   ]
  },
  {
   "cell_type": "code",
   "execution_count": 4,
   "id": "e5e1c3b3-9eda-4247-888b-ca56aa83be4d",
   "metadata": {},
   "outputs": [
    {
     "data": {
      "text/plain": [
       "'hello \"vamos testar\"'"
      ]
     },
     "execution_count": 4,
     "metadata": {},
     "output_type": "execute_result"
    }
   ],
   "source": [
    "minha_string3"
   ]
  },
  {
   "cell_type": "code",
   "execution_count": 5,
   "id": "d521b404-94e4-4d4a-b1c8-6717ec8d51de",
   "metadata": {},
   "outputs": [
    {
     "name": "stdout",
     "output_type": "stream",
     "text": [
      "hello \"vamos testar\"\n"
     ]
    }
   ],
   "source": [
    "print(minha_string3)"
   ]
  },
  {
   "cell_type": "code",
   "execution_count": 6,
   "id": "961e6c2b-5b3f-46f5-b7a7-158fbb5611cf",
   "metadata": {},
   "outputs": [
    {
     "data": {
      "text/plain": [
       "20"
      ]
     },
     "execution_count": 6,
     "metadata": {},
     "output_type": "execute_result"
    }
   ],
   "source": [
    "len(minha_string3)"
   ]
  },
  {
   "cell_type": "code",
   "execution_count": 7,
   "id": "9241a7da-10d0-4174-907a-120490d2141a",
   "metadata": {},
   "outputs": [
    {
     "name": "stdout",
     "output_type": "stream",
     "text": [
      "hello \"vamos testar\"\n"
     ]
    }
   ],
   "source": [
    "print(minha_string3)"
   ]
  },
  {
   "cell_type": "code",
   "execution_count": 8,
   "id": "eb047e98-4725-48e1-88fe-059fb2066d87",
   "metadata": {},
   "outputs": [
    {
     "data": {
      "text/plain": [
       "'hellohello \"vamos testar\"'"
      ]
     },
     "execution_count": 8,
     "metadata": {},
     "output_type": "execute_result"
    }
   ],
   "source": [
    "minha_string + minha_string3"
   ]
  },
  {
   "cell_type": "code",
   "execution_count": 9,
   "id": "7f192c02-968a-4376-8d14-f64f90ec690e",
   "metadata": {},
   "outputs": [
    {
     "data": {
      "text/plain": [
       "'l'"
      ]
     },
     "execution_count": 9,
     "metadata": {},
     "output_type": "execute_result"
    }
   ],
   "source": [
    "minha_string[2]"
   ]
  },
  {
   "cell_type": "code",
   "execution_count": 10,
   "id": "815e2d6c-50e0-4cbd-b8b2-c8c172b2b20a",
   "metadata": {},
   "outputs": [
    {
     "data": {
      "text/plain": [
       "'o'"
      ]
     },
     "execution_count": 10,
     "metadata": {},
     "output_type": "execute_result"
    }
   ],
   "source": [
    "minha_string3[10]"
   ]
  },
  {
   "cell_type": "code",
   "execution_count": 11,
   "id": "b37c2f06-41e6-4ce9-a248-9f67f0e78776",
   "metadata": {},
   "outputs": [
    {
     "data": {
      "text/plain": [
       "'hello \"vamos testar\"'"
      ]
     },
     "execution_count": 11,
     "metadata": {},
     "output_type": "execute_result"
    }
   ],
   "source": [
    "minha_string3[:]"
   ]
  },
  {
   "cell_type": "code",
   "execution_count": 12,
   "id": "b0005913-a714-4db3-aafa-8a2beb97e754",
   "metadata": {},
   "outputs": [
    {
     "data": {
      "text/plain": [
       "'lo \"vamos testar\"'"
      ]
     },
     "execution_count": 12,
     "metadata": {},
     "output_type": "execute_result"
    }
   ],
   "source": [
    "minha_string3[3:]"
   ]
  },
  {
   "cell_type": "code",
   "execution_count": 13,
   "id": "5562e3f5-9c95-4b6b-afc3-93bb2bd3f770",
   "metadata": {},
   "outputs": [
    {
     "data": {
      "text/plain": [
       "'lo \"'"
      ]
     },
     "execution_count": 13,
     "metadata": {},
     "output_type": "execute_result"
    }
   ],
   "source": [
    "minha_string3[3:7]"
   ]
  },
  {
   "cell_type": "code",
   "execution_count": 15,
   "id": "38a4d2ca-0f52-4317-be76-76a5e7a22a6a",
   "metadata": {},
   "outputs": [
    {
     "data": {
      "text/plain": [
       "'h'"
      ]
     },
     "execution_count": 15,
     "metadata": {},
     "output_type": "execute_result"
    }
   ],
   "source": [
    "minha_string3[-20]"
   ]
  },
  {
   "cell_type": "code",
   "execution_count": 16,
   "id": "367ab03b-c859-4d87-abae-97a2833afef7",
   "metadata": {},
   "outputs": [
    {
     "data": {
      "text/plain": [
       "''"
      ]
     },
     "execution_count": 16,
     "metadata": {},
     "output_type": "execute_result"
    }
   ],
   "source": [
    "minha_string3[:-20]"
   ]
  },
  {
   "cell_type": "code",
   "execution_count": 17,
   "id": "808362d4-4ede-4a11-a47a-283dabba4255",
   "metadata": {},
   "outputs": [
    {
     "data": {
      "text/plain": [
       "'h'"
      ]
     },
     "execution_count": 17,
     "metadata": {},
     "output_type": "execute_result"
    }
   ],
   "source": [
    "minha_string3[:-19]"
   ]
  },
  {
   "cell_type": "code",
   "execution_count": 18,
   "id": "20bdfdec-f0a8-4c2b-9804-f7bedfb64358",
   "metadata": {},
   "outputs": [
    {
     "data": {
      "text/plain": [
       "'hlo\"ao etr'"
      ]
     },
     "execution_count": 18,
     "metadata": {},
     "output_type": "execute_result"
    }
   ],
   "source": [
    "minha_string3[::2]"
   ]
  },
  {
   "cell_type": "code",
   "execution_count": 19,
   "id": "213f6fdd-5938-4457-978d-dcf7713c87af",
   "metadata": {},
   "outputs": [
    {
     "data": {
      "text/plain": [
       "'\"ratset somav\" olleh'"
      ]
     },
     "execution_count": 19,
     "metadata": {},
     "output_type": "execute_result"
    }
   ],
   "source": [
    "minha_string3[::-1]"
   ]
  },
  {
   "cell_type": "code",
   "execution_count": 20,
   "id": "805f6d5b-8049-42b1-8778-a7db7ca8ae44",
   "metadata": {},
   "outputs": [
    {
     "data": {
      "text/plain": [
       "'hello \"vamos testar\"'"
      ]
     },
     "execution_count": 20,
     "metadata": {},
     "output_type": "execute_result"
    }
   ],
   "source": [
    "minha_string3[:]"
   ]
  },
  {
   "cell_type": "code",
   "execution_count": 21,
   "id": "b7c6f210-1afd-4665-af0e-949bb338e325",
   "metadata": {},
   "outputs": [
    {
     "data": {
      "text/plain": [
       "'h'"
      ]
     },
     "execution_count": 21,
     "metadata": {},
     "output_type": "execute_result"
    }
   ],
   "source": [
    "minha_string3[0]"
   ]
  },
  {
   "cell_type": "code",
   "execution_count": 22,
   "id": "f69cab60-8ade-4c36-b7d0-505cc362adee",
   "metadata": {},
   "outputs": [],
   "source": [
    "minha_string3 = \"ola nova\""
   ]
  },
  {
   "cell_type": "code",
   "execution_count": 23,
   "id": "c209310f-f86c-4b55-9505-6d11824e7ffd",
   "metadata": {},
   "outputs": [
    {
     "data": {
      "text/plain": [
       "'ola nova'"
      ]
     },
     "execution_count": 23,
     "metadata": {},
     "output_type": "execute_result"
    }
   ],
   "source": [
    "minha_string3"
   ]
  },
  {
   "cell_type": "code",
   "execution_count": 24,
   "id": "371e31f9-312f-4f38-886d-1b0ea1c83408",
   "metadata": {},
   "outputs": [
    {
     "data": {
      "text/plain": [
       "'aaaaaaaaaa'"
      ]
     },
     "execution_count": 24,
     "metadata": {},
     "output_type": "execute_result"
    }
   ],
   "source": [
    "\"a\" * 10"
   ]
  },
  {
   "cell_type": "code",
   "execution_count": 25,
   "id": "ff536076-1941-433f-8822-fc994bfe1822",
   "metadata": {},
   "outputs": [
    {
     "data": {
      "text/plain": [
       "str"
      ]
     },
     "execution_count": 25,
     "metadata": {},
     "output_type": "execute_result"
    }
   ],
   "source": [
    "type(\"a\")"
   ]
  },
  {
   "cell_type": "code",
   "execution_count": 26,
   "id": "0a85fe99-ddc9-40ae-b820-c15e12dbfb0d",
   "metadata": {},
   "outputs": [
    {
     "data": {
      "text/plain": [
       "str"
      ]
     },
     "execution_count": 26,
     "metadata": {},
     "output_type": "execute_result"
    }
   ],
   "source": [
    "type(\"true\")"
   ]
  },
  {
   "cell_type": "code",
   "execution_count": 29,
   "id": "a3065be5-f627-4c22-b1b7-ce947e26b6d4",
   "metadata": {},
   "outputs": [
    {
     "data": {
      "text/plain": [
       "['__add__',\n",
       " '__class__',\n",
       " '__contains__',\n",
       " '__delattr__',\n",
       " '__dir__',\n",
       " '__doc__',\n",
       " '__eq__',\n",
       " '__format__',\n",
       " '__ge__',\n",
       " '__getattribute__',\n",
       " '__getitem__',\n",
       " '__getnewargs__',\n",
       " '__getstate__',\n",
       " '__gt__',\n",
       " '__hash__',\n",
       " '__init__',\n",
       " '__init_subclass__',\n",
       " '__iter__',\n",
       " '__le__',\n",
       " '__len__',\n",
       " '__lt__',\n",
       " '__mod__',\n",
       " '__mul__',\n",
       " '__ne__',\n",
       " '__new__',\n",
       " '__reduce__',\n",
       " '__reduce_ex__',\n",
       " '__repr__',\n",
       " '__rmod__',\n",
       " '__rmul__',\n",
       " '__setattr__',\n",
       " '__sizeof__',\n",
       " '__str__',\n",
       " '__subclasshook__',\n",
       " 'capitalize',\n",
       " 'casefold',\n",
       " 'center',\n",
       " 'count',\n",
       " 'encode',\n",
       " 'endswith',\n",
       " 'expandtabs',\n",
       " 'find',\n",
       " 'format',\n",
       " 'format_map',\n",
       " 'index',\n",
       " 'isalnum',\n",
       " 'isalpha',\n",
       " 'isascii',\n",
       " 'isdecimal',\n",
       " 'isdigit',\n",
       " 'isidentifier',\n",
       " 'islower',\n",
       " 'isnumeric',\n",
       " 'isprintable',\n",
       " 'isspace',\n",
       " 'istitle',\n",
       " 'isupper',\n",
       " 'join',\n",
       " 'ljust',\n",
       " 'lower',\n",
       " 'lstrip',\n",
       " 'maketrans',\n",
       " 'partition',\n",
       " 'removeprefix',\n",
       " 'removesuffix',\n",
       " 'replace',\n",
       " 'rfind',\n",
       " 'rindex',\n",
       " 'rjust',\n",
       " 'rpartition',\n",
       " 'rsplit',\n",
       " 'rstrip',\n",
       " 'split',\n",
       " 'splitlines',\n",
       " 'startswith',\n",
       " 'strip',\n",
       " 'swapcase',\n",
       " 'title',\n",
       " 'translate',\n",
       " 'upper',\n",
       " 'zfill']"
      ]
     },
     "execution_count": 29,
     "metadata": {},
     "output_type": "execute_result"
    }
   ],
   "source": [
    "dir(\"hello\")"
   ]
  },
  {
   "cell_type": "code",
   "execution_count": 30,
   "id": "7947f32f-4122-43cc-a5d4-c04d208b44b4",
   "metadata": {},
   "outputs": [
    {
     "data": {
      "text/plain": [
       "'hello'"
      ]
     },
     "execution_count": 30,
     "metadata": {},
     "output_type": "execute_result"
    }
   ],
   "source": [
    "\"hello\".lower()"
   ]
  },
  {
   "cell_type": "code",
   "execution_count": 31,
   "id": "293da6e9-96d9-4be2-b68b-446631ef9c1c",
   "metadata": {},
   "outputs": [
    {
     "data": {
      "text/plain": [
       "'HELLO'"
      ]
     },
     "execution_count": 31,
     "metadata": {},
     "output_type": "execute_result"
    }
   ],
   "source": [
    "\"hello\".upper()"
   ]
  },
  {
   "cell_type": "code",
   "execution_count": 32,
   "id": "4da06ee8-9d27-457c-8919-52b230ebc209",
   "metadata": {},
   "outputs": [
    {
     "data": {
      "text/plain": [
       "['he', '', 'o']"
      ]
     },
     "execution_count": 32,
     "metadata": {},
     "output_type": "execute_result"
    }
   ],
   "source": [
    "'hello'.split('l')"
   ]
  },
  {
   "cell_type": "code",
   "execution_count": 33,
   "id": "7acd29ea-fc5b-452f-b6ac-fe7bb8b1a95f",
   "metadata": {},
   "outputs": [
    {
     "data": {
      "text/plain": [
       "['hello']"
      ]
     },
     "execution_count": 33,
     "metadata": {},
     "output_type": "execute_result"
    }
   ],
   "source": [
    "'hello'.split()"
   ]
  },
  {
   "cell_type": "code",
   "execution_count": 35,
   "id": "d7b379dc-42f1-46de-84a0-d2d352d74522",
   "metadata": {},
   "outputs": [
    {
     "data": {
      "text/plain": [
       "'Idade da pessoa eh: 10'"
      ]
     },
     "execution_count": 35,
     "metadata": {},
     "output_type": "execute_result"
    }
   ],
   "source": [
    "idade = 10\n",
    "\"Idade da pessoa eh: {}\".format(idade)"
   ]
  },
  {
   "cell_type": "code",
   "execution_count": 36,
   "id": "8d64ee7e-e942-47fc-893c-cd768caed12f",
   "metadata": {},
   "outputs": [
    {
     "data": {
      "text/plain": [
       "'Idade da pessoa eh: 10 e o nome eh: Luciana'"
      ]
     },
     "execution_count": 36,
     "metadata": {},
     "output_type": "execute_result"
    }
   ],
   "source": [
    "idade = 10\n",
    "nome = \"Luciana\"\n",
    "\"Idade da pessoa eh: {} e o nome eh: {}\".format(idade, nome)"
   ]
  },
  {
   "cell_type": "code",
   "execution_count": 37,
   "id": "a1d40e26-a024-4f66-941e-06c2bec51a33",
   "metadata": {},
   "outputs": [
    {
     "data": {
      "text/plain": [
       "'Idade da pessoa eh: 10 e o nome eh: Luciana'"
      ]
     },
     "execution_count": 37,
     "metadata": {},
     "output_type": "execute_result"
    }
   ],
   "source": [
    "idade = 10\n",
    "nome = \"Luciana\"\n",
    "\"Idade da pessoa eh: {a} e o nome eh: {b}\".format(a=idade, b=nome)"
   ]
  },
  {
   "cell_type": "code",
   "execution_count": 38,
   "id": "8c617eb6-f3d6-401f-8358-91c33ab36427",
   "metadata": {},
   "outputs": [
    {
     "data": {
      "text/plain": [
       "'ola nova'"
      ]
     },
     "execution_count": 38,
     "metadata": {},
     "output_type": "execute_result"
    }
   ],
   "source": [
    "minha_string3"
   ]
  },
  {
   "cell_type": "code",
   "execution_count": 39,
   "id": "62296879-9da2-4e9e-aab9-78f2a8b05c25",
   "metadata": {},
   "outputs": [
    {
     "data": {
      "text/plain": [
       "['hello']"
      ]
     },
     "execution_count": 39,
     "metadata": {},
     "output_type": "execute_result"
    }
   ],
   "source": [
    "minha_string.split()"
   ]
  },
  {
   "cell_type": "code",
   "execution_count": 40,
   "id": "6967d5d3-980a-4c66-b343-18bb9ce9a38b",
   "metadata": {},
   "outputs": [
    {
     "data": {
      "text/plain": [
       "'hello'"
      ]
     },
     "execution_count": 40,
     "metadata": {},
     "output_type": "execute_result"
    }
   ],
   "source": [
    "minha_string"
   ]
  },
  {
   "cell_type": "code",
   "execution_count": null,
   "id": "b8dba14e-d2bb-4c06-a240-c6a09c606c2a",
   "metadata": {},
   "outputs": [],
   "source": [
    "mi"
   ]
  }
 ],
 "metadata": {
  "kernelspec": {
   "display_name": "Python 3 (ipykernel)",
   "language": "python",
   "name": "python3"
  },
  "language_info": {
   "codemirror_mode": {
    "name": "ipython",
    "version": 3
   },
   "file_extension": ".py",
   "mimetype": "text/x-python",
   "name": "python",
   "nbconvert_exporter": "python",
   "pygments_lexer": "ipython3",
   "version": "3.13.0"
  }
 },
 "nbformat": 4,
 "nbformat_minor": 5
}
