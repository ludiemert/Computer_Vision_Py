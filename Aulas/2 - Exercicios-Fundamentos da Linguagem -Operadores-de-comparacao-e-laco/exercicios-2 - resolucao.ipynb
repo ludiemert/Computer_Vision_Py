{
 "cells": [
  {
   "cell_type": "markdown",
   "metadata": {},
   "source": [
    "<img src=\"https://asimov.academy/wp-content/uploads/2021/01/logo.png\" width=\"200\"/>\n",
    "_____________________________________________\n",
    "\n",
    "## Exercícios #2 - Operadores de comparação e laços\n"
   ]
  },
  {
   "cell_type": "markdown",
   "metadata": {},
   "source": [
    "### Exercício 1\n",
    "Faça um programa para a leitura de duas notas parciais de um aluno. O programa deve calcular a média alcançada por aluno e apresentar:\n",
    "- A mensagem \"Aprovado\", se a média alcançada for maior ou igual a 7;\n",
    "- A mensagem \"Reprovado\", se a média for menor do que 7;\n",
    "- A mensagem \"Aprovado com Distinção\", se a média for igual a 10."
   ]
  },
  {
   "cell_type": "code",
   "execution_count": 3,
   "metadata": {
    "scrolled": true
   },
   "outputs": [
    {
     "name": "stdout",
     "output_type": "stream",
     "text": [
      "Inform the students a first grade \n"
     ]
    },
    {
     "name": "stdin",
     "output_type": "stream",
     "text": [
      " 10\n"
     ]
    },
    {
     "name": "stdout",
     "output_type": "stream",
     "text": [
      "Inform the students a second grade\n"
     ]
    },
    {
     "name": "stdin",
     "output_type": "stream",
     "text": [
      " 10\n"
     ]
    },
    {
     "name": "stdout",
     "output_type": "stream",
     "text": [
      "================\n",
      "The average gade is 🧐: 10.0\n",
      "Congradulations!!! 👏👏👏👏\n"
     ]
    }
   ],
   "source": [
    "print('Inform the students a first grade ')\n",
    "n1 = float(input())\n",
    "print('Inform the students a second grade')\n",
    "n2 = float(input())\n",
    "\n",
    "media = (n1 + n2) / 2\n",
    "\n",
    "print('================')\n",
    "print('The average gade is 🧐: {}'.format(media))\n",
    "\n",
    "if media == 10:\n",
    "    print('Congradulations!!! 👏👏👏👏')\n",
    "\n",
    "elif media >=7:\n",
    "    print('You Passed 👍')\n",
    "else:\n",
    "    print('You Failed 👎')"
   ]
  },
  {
   "cell_type": "markdown",
   "metadata": {},
   "source": [
    "### Exercício 2\n",
    "Escreva um script que leia três números e mostre o maior e o menor deles."
   ]
  },
  {
   "cell_type": "code",
   "execution_count": 4,
   "metadata": {
    "scrolled": true
   },
   "outputs": [
    {
     "name": "stdout",
     "output_type": "stream",
     "text": [
      "Inform 1* number: \n"
     ]
    },
    {
     "name": "stdin",
     "output_type": "stream",
     "text": [
      " 100\n"
     ]
    },
    {
     "name": "stdout",
     "output_type": "stream",
     "text": [
      "Inform 2* number: \n"
     ]
    },
    {
     "name": "stdin",
     "output_type": "stream",
     "text": [
      " 2\n"
     ]
    },
    {
     "name": "stdout",
     "output_type": "stream",
     "text": [
      "Inform 3* number: \n"
     ]
    },
    {
     "name": "stdin",
     "output_type": "stream",
     "text": [
      " 30\n"
     ]
    },
    {
     "name": "stdout",
     "output_type": "stream",
     "text": [
      "Inform 4* number: \n"
     ]
    },
    {
     "name": "stdin",
     "output_type": "stream",
     "text": [
      " 40\n"
     ]
    },
    {
     "name": "stdout",
     "output_type": "stream",
     "text": [
      "Biggest number os: 100\n",
      "Smaller number os: 2\n"
     ]
    }
   ],
   "source": [
    "#utilizando o for\n",
    "lisy_nums = []\n",
    "for i in range(4):\n",
    "    print('Inform {}* number: '.format(i + 1))\n",
    "    x = int(input())\n",
    "    lisy_nums.append(x)\n",
    "lisy_nums.sort()\n",
    "print('Biggest number os: {}'.format(lisy_nums[-1]))\n",
    "print('Smaller number os: {}'.format(lisy_nums[0]))"
   ]
  },
  {
   "cell_type": "markdown",
   "metadata": {},
   "source": [
    "### Exercício 3 \n",
    "Nome na vertical em escada. \n",
    "\n",
    "F<br>\n",
    "FU<br>\n",
    "FUL<br>\n",
    "FULA<br>\n",
    "FULAN<br>\n",
    "FULANO<br>"
   ]
  },
  {
   "cell_type": "code",
   "execution_count": 9,
   "metadata": {
    "scrolled": true
   },
   "outputs": [
    {
     "name": "stdout",
     "output_type": "stream",
     "text": [
      "Inform your name:  \n"
     ]
    },
    {
     "name": "stdin",
     "output_type": "stream",
     "text": [
      " luciana\n"
     ]
    },
    {
     "name": "stdout",
     "output_type": "stream",
     "text": [
      "\n",
      "l\n",
      "lu\n",
      "luc\n",
      "luci\n",
      "lucia\n",
      "lucian\n",
      "luciana\n"
     ]
    }
   ],
   "source": [
    "print('Inform your name:  ')\n",
    "name = input()\n",
    "\n",
    "for i in range(len(name) + 1): #ele sempre para um numero antes, colocando + 1) ele vai ate o ultimo\n",
    "    print(name[:i]) #pega desde a primeira letra no name 0 ate a ultima "
   ]
  },
  {
   "cell_type": "markdown",
   "metadata": {},
   "source": [
    "### Exercício 4\n",
    "A série de Fibonacci é formada pela seqüência 1,1,2,3,5,8,13,21,34,55,... (o próximo termo, a partir do terceiro, é sempre gerado a partir do somatório dos últimos dois). Faça um programa capaz de gerar a série até o n−ésimo termo (onde o valor n deve ser inserido pelo usuário)."
   ]
  },
  {
   "cell_type": "code",
   "execution_count": 10,
   "metadata": {
    "scrolled": true
   },
   "outputs": [
    {
     "name": "stdout",
     "output_type": "stream",
     "text": [
      "What size Fibonacci sequence do you want to see?\n"
     ]
    },
    {
     "name": "stdin",
     "output_type": "stream",
     "text": [
      " 10\n"
     ]
    },
    {
     "name": "stdout",
     "output_type": "stream",
     "text": [
      "1\n",
      "1\n",
      "2\n",
      "3\n",
      "5\n",
      "8\n",
      "13\n",
      "21\n",
      "34\n",
      "55\n",
      "89\n",
      "144\n"
     ]
    }
   ],
   "source": [
    "print('What size Fibonacci sequence do you want to see?')\n",
    "n = int(input())\n",
    "\n",
    "v0 = 0\n",
    "v1 = 1\n",
    "v = 1\n",
    "\n",
    "print(1)\n",
    "for i in range(n+1):\n",
    "    print(v)\n",
    "    v0 = v1\n",
    "    v1 = v\n",
    "    v = v1 + v0\n",
    "\n",
    "\n",
    "\n",
    "#sempre atualizando v1 para o valor digitado"
   ]
  },
  {
   "cell_type": "markdown",
   "metadata": {},
   "source": [
    "### Exercício 5\n",
    "Faça um programa que leia e valide as seguintes informações:\n",
    "- Nome: maior que 3 caracteres;\n",
    "- Idade: entre 0 e 150;\n",
    "- Salário: maior que zero;\n",
    "- Sexo: 'f' ou 'm';\n",
    "- Estado Civil: 's', 'c', 'v', 'd';"
   ]
  },
  {
   "cell_type": "code",
   "execution_count": 20,
   "metadata": {},
   "outputs": [
    {
     "name": "stdout",
     "output_type": "stream",
     "text": [
      "Inform the name: \n"
     ]
    },
    {
     "name": "stdin",
     "output_type": "stream",
     "text": [
      " luciaa\n"
     ]
    },
    {
     "name": "stdout",
     "output_type": "stream",
     "text": [
      "Enter your age: \n"
     ]
    },
    {
     "name": "stdin",
     "output_type": "stream",
     "text": [
      " 45\n"
     ]
    },
    {
     "name": "stdout",
     "output_type": "stream",
     "text": [
      "Enter your salary: \n"
     ]
    },
    {
     "name": "stdin",
     "output_type": "stream",
     "text": [
      " 300\n"
     ]
    },
    {
     "name": "stdout",
     "output_type": "stream",
     "text": [
      "Report the sex: \n"
     ]
    },
    {
     "name": "stdin",
     "output_type": "stream",
     "text": [
      " f\n"
     ]
    },
    {
     "name": "stdout",
     "output_type": "stream",
     "text": [
      "Report civil status: \n"
     ]
    },
    {
     "name": "stdin",
     "output_type": "stream",
     "text": [
      " d\n"
     ]
    },
    {
     "name": "stdout",
     "output_type": "stream",
     "text": [
      "Name is luciaa, Age is 45, Salary is 300, Sex is f, Civil Status is d\n"
     ]
    }
   ],
   "source": [
    "# Nome: maior que 3 caracteres;\n",
    "print('Inform the name: ')\n",
    "name = input()\n",
    "while len(name) <=3:\n",
    "    print('The name must be longer than 3 characters!!!')\n",
    "    print('Inform the name: ')\n",
    "    name = input() # fez tudo passa para o prox\n",
    "\n",
    "\n",
    "#Idade: entre 0 e 150;\n",
    "print('Enter your age: ')\n",
    "age = int(input())\n",
    "while (age <= 0) or (age >= 150):\n",
    "    print('The age must be between 0 and 150')\n",
    "    print('Enter your age: ')\n",
    "    age = int(input())\n",
    "\n",
    "\n",
    "#Salário: maior que zero;\n",
    "print('Enter your salary: ')\n",
    "salary = int(input())\n",
    "while (salary <= 0):\n",
    "    print('The salary must 0: ')\n",
    "    print('Enter your salary: ')\n",
    "    salary = int(input())\n",
    "\n",
    "\n",
    "#Sexo: 'f' ou 'm';\n",
    "print('Report the sex: ')\n",
    "sex = input()\n",
    "while sex not in ['m', 'f']: # ele nao executa com esse 'm' or 'f'\n",
    "    print(\"the sex must be 'm' or 'f' \")\n",
    "    print('Report the sex:')\n",
    "    sex = input()\n",
    "\n",
    "#Estado Civil: 's', 'c', 'v', 'd';\n",
    "print('Report civil status: ')\n",
    "civil = input()\n",
    "while civil not in ['s', 'c', 'v', 'd']: # ele nao executa com esse 's', 'c', 'v', 'd'\n",
    "    print(\"the civil must be 's', 'c', 'v', 'd' \")\n",
    "    print('Report the civil:')\n",
    "    civil = input()\n",
    "\n",
    "# Exibindo todas as informações em uma linha\n",
    "print(f'Name is {name}, Age is {age}, Salary is {salary}, Sex is {sex}, Civil Status is {civil}')\n",
    "\n"
   ]
  },
  {
   "cell_type": "markdown",
   "metadata": {},
   "source": [
    "### Exercício 6\n",
    "Faça um programa que peça um número inteiro e determine se ele é ou não um número primo. Um número primo é aquele que é divisível somente por ele mesmo e por 1. \n",
    "Dica: Utilize o operador aritmético `%`, que retorna o resto da divisão de dois números."
   ]
  },
  {
   "cell_type": "code",
   "execution_count": 21,
   "metadata": {},
   "outputs": [
    {
     "name": "stdout",
     "output_type": "stream",
     "text": [
      "Inform a number: \n"
     ]
    },
    {
     "name": "stdin",
     "output_type": "stream",
     "text": [
      " 29\n"
     ]
    },
    {
     "name": "stdout",
     "output_type": "stream",
     "text": [
      "Is PRIMO\n"
     ]
    }
   ],
   "source": [
    "print('Inform a number: ')\n",
    "n = int(input())\n",
    "\n",
    "check = 0\n",
    "\n",
    "for i in range(2, n):\n",
    "    if n % i == 0:\n",
    "        check = 1\n",
    "        break\n",
    "\n",
    "if check == 0:\n",
    "    print(\"Is PRIMO\")\n",
    "else:\n",
    "    print('Not PRIMO')\n"
   ]
  },
  {
   "cell_type": "code",
   "execution_count": null,
   "metadata": {},
   "outputs": [],
   "source": []
  }
 ],
 "metadata": {
  "kernelspec": {
   "display_name": "Python 3 (ipykernel)",
   "language": "python",
   "name": "python3"
  },
  "language_info": {
   "codemirror_mode": {
    "name": "ipython",
    "version": 3
   },
   "file_extension": ".py",
   "mimetype": "text/x-python",
   "name": "python",
   "nbconvert_exporter": "python",
   "pygments_lexer": "ipython3",
   "version": "3.13.0"
  }
 },
 "nbformat": 4,
 "nbformat_minor": 4
}
