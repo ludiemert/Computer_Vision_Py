{
 "cells": [
  {
   "cell_type": "code",
   "execution_count": null,
   "id": "bd336a87-b913-4775-bf5e-d9d83f713952",
   "metadata": {},
   "outputs": [],
   "source": [
    "# rastrear todo nosso programa\n",
    "# ele cria um arquiv de login em .txt com todas informacoes do codig, como erros, passos.... tudo que quiser sobre o codigo\n",
    "# leia tudo que esta acontecendo no codigo"
   ]
  },
  {
   "cell_type": "code",
   "execution_count": 1,
   "id": "d7852665-fc72-45a6-b684-de6c880d1c5d",
   "metadata": {},
   "outputs": [],
   "source": [
    "import logging\n",
    "#logging.basicConfig(filename=\"app.log\", level=logging.DEBUG) # registra todos os logs porque coloq nivel acima do level = level=logging.DEBUG)\n",
    "# a primeira linha ja tem que ser essa: logging.basicConfig(filename=\"app.log\", level=logging.DEBUG) \n",
    "\n",
    "# nao esqueca sempre que fizer alteracoes faca reset do KERNEL acima\n",
    "\n",
    "# formatar o arquivos com informacoes\n",
    "LOG_FORMAT = \"%(levelname)s %(asctime)s  - %(message)s\"\n",
    "# se quiser reescrever o arquivo padrao usar o comando abaixo:\n",
    "logging.basicConfig(filename=\"app.log\", level=logging.DEBUG, filemode=\"w\", format=LOG_FORMAT)\n",
    "log = logging.getLogger()\n",
    "log.info(\"Hello.....study\")\n",
    "log.critical(\"error import\")\n",
    "log.debug(\"Hello.....study\")\n",
    "log.warning(\"error import\")"
   ]
  },
  {
   "cell_type": "code",
   "execution_count": null,
   "id": "6cecd491-5ad7-4f72-ae2f-094bfaeaf65b",
   "metadata": {},
   "outputs": [],
   "source": []
  },
  {
   "cell_type": "code",
   "execution_count": null,
   "id": "ead630fa-2ac0-496c-b721-c5509db7f5a7",
   "metadata": {},
   "outputs": [],
   "source": []
  }
 ],
 "metadata": {
  "kernelspec": {
   "display_name": "Python 3 (ipykernel)",
   "language": "python",
   "name": "python3"
  },
  "language_info": {
   "codemirror_mode": {
    "name": "ipython",
    "version": 3
   },
   "file_extension": ".py",
   "mimetype": "text/x-python",
   "name": "python",
   "nbconvert_exporter": "python",
   "pygments_lexer": "ipython3",
   "version": "3.13.0"
  }
 },
 "nbformat": 4,
 "nbformat_minor": 5
}
