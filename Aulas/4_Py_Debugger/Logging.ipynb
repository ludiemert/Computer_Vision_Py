{
 "cells": [
  {
   "cell_type": "code",
   "execution_count": null,
   "id": "bd336a87-b913-4775-bf5e-d9d83f713952",
   "metadata": {},
   "outputs": [],
   "source": [
    "# rastrear todo nosso programa\n",
    "# ele cria um arquiv de login em .txt com todas informacoes do codig, como erros, passos.... tudo que quiser sobre o codigo\n",
    "# leia tudo que esta acontecendo no codigo"
   ]
  },
  {
   "cell_type": "code",
   "execution_count": null,
   "id": "f6741347-c970-4c62-9b76-8da8d7d301ce",
   "metadata": {},
   "outputs": [],
   "source": [
    "import logging"
   ]
  },
  {
   "cell_type": "code",
   "execution_count": null,
   "id": "d7852665-fc72-45a6-b684-de6c880d1c5d",
   "metadata": {},
   "outputs": [],
   "source": [
    "logging.basicConfig(filename=\"app.log\")\n",
    "log = logging.getLogger()\n",
    "log.info(\"Hello\")\n"
   ]
  }
 ],
 "metadata": {
  "kernelspec": {
   "display_name": "Python 3 (ipykernel)",
   "language": "python",
   "name": "python3"
  },
  "language_info": {
   "codemirror_mode": {
    "name": "ipython",
    "version": 3
   },
   "file_extension": ".py",
   "mimetype": "text/x-python",
   "name": "python",
   "nbconvert_exporter": "python",
   "pygments_lexer": "ipython3",
   "version": "3.13.0"
  }
 },
 "nbformat": 4,
 "nbformat_minor": 5
}
