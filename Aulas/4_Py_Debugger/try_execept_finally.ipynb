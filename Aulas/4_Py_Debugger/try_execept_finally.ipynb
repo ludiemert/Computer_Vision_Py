{
 "cells": [
  {
   "cell_type": "code",
   "execution_count": null,
   "id": "12624d66-038b-4d07-8786-fef270e3f0ea",
   "metadata": {},
   "outputs": [],
   "source": [
    "# comandos para proteger nosso codigo de erros:\n",
    "# try_execept_finally"
   ]
  },
  {
   "cell_type": "code",
   "execution_count": 3,
   "id": "49cfb0f3-9987-4ab0-867d-f45a9a765422",
   "metadata": {},
   "outputs": [
    {
     "ename": "TypeError",
     "evalue": "can only concatenate list (not \"int\") to list",
     "output_type": "error",
     "traceback": [
      "\u001b[31m---------------------------------------------------------------------------\u001b[39m",
      "\u001b[31mTypeError\u001b[39m                                 Traceback (most recent call last)",
      "\u001b[36mCell\u001b[39m\u001b[36m \u001b[39m\u001b[32mIn[3]\u001b[39m\u001b[32m, line 6\u001b[39m\n\u001b[32m      3\u001b[39m y = \u001b[32m2\u001b[39m\n\u001b[32m      4\u001b[39m z = \u001b[32m3\u001b[39m\n\u001b[32m----> \u001b[39m\u001b[32m6\u001b[39m \u001b[43mx\u001b[49m\u001b[43m \u001b[49m\u001b[43m+\u001b[49m\u001b[43m \u001b[49m\u001b[43mz\u001b[49m\n",
      "\u001b[31mTypeError\u001b[39m: can only concatenate list (not \"int\") to list"
     ]
    }
   ],
   "source": [
    "import pdb \n",
    "x = [1, 2, 3]\n",
    "y = 2\n",
    "z = 3\n",
    "\n",
    "x + z"
   ]
  },
  {
   "cell_type": "code",
   "execution_count": null,
   "id": "010667fd-2fbb-433a-9e22-0d2a97b4bdcc",
   "metadata": {},
   "outputs": [],
   "source": [
    "# para proteger o codigo usando o try_execept eu faco isso....."
   ]
  },
  {
   "cell_type": "code",
   "execution_count": 4,
   "id": "6795cb14-024d-4011-9d10-821c4c66ea7a",
   "metadata": {},
   "outputs": [
    {
     "name": "stdout",
     "output_type": "stream",
     "text": [
      "cont [1, 2, 3]\n"
     ]
    }
   ],
   "source": [
    "import pdb \n",
    "x = [1, 2, 3]\n",
    "y = 2\n",
    "z = 3\n",
    "\n",
    "try:\n",
    "    x + z\n",
    "    x = 1\n",
    "    y = 1\n",
    "except:\n",
    "    print(\"cont\", x)"
   ]
  },
  {
   "cell_type": "code",
   "execution_count": null,
   "id": "96151b28-324f-4205-9c5a-bc425712a4f6",
   "metadata": {},
   "outputs": [],
   "source": [
    "# vendo e analizando o erro:    => comando except Exception as e:"
   ]
  },
  {
   "cell_type": "code",
   "execution_count": 5,
   "id": "111f99d7-3385-4af2-bb3b-96428ef833f6",
   "metadata": {},
   "outputs": [
    {
     "name": "stdout",
     "output_type": "stream",
     "text": [
      "cont [1, 2, 3]\n",
      "Erro : can only concatenate list (not \"int\") to list\n"
     ]
    }
   ],
   "source": [
    "import pdb \n",
    "x = [1, 2, 3]\n",
    "y = 2\n",
    "z = 3\n",
    "\n",
    "try:\n",
    "    x + z\n",
    "    x = 1\n",
    "    y = 1\n",
    "except Exception as e:\n",
    "    print(\"cont\", x)\n",
    "\n",
    "    print(\"Erro : {}\".format(e))"
   ]
  },
  {
   "cell_type": "code",
   "execution_count": null,
   "id": "1e00113f-442b-4739-ae72-465f595ed670",
   "metadata": {},
   "outputs": [],
   "source": [
    "# esse comando executa independente do erro: funally"
   ]
  },
  {
   "cell_type": "code",
   "execution_count": 9,
   "id": "e16f4328-70b3-4162-b3c5-845016bf3a30",
   "metadata": {},
   "outputs": [
    {
     "name": "stdout",
     "output_type": "stream",
     "text": [
      "cont 1\n"
     ]
    }
   ],
   "source": [
    "import pdb \n",
    "x = [1, 2, 3]\n",
    "y = 2\n",
    "z = 3\n",
    "\n",
    "try:\n",
    "    #x + z\n",
    "    x = 1\n",
    "    y = 1\n",
    "except Exception as e:\n",
    "    print(\"Erro : {}\".format(e))\n",
    "finally:\n",
    "    print(\"cont\", x)"
   ]
  },
  {
   "cell_type": "code",
   "execution_count": null,
   "id": "27e9cd8c-ee63-49d9-923b-298b62ed49c0",
   "metadata": {},
   "outputs": [],
   "source": []
  }
 ],
 "metadata": {
  "kernelspec": {
   "display_name": "Python 3 (ipykernel)",
   "language": "python",
   "name": "python3"
  },
  "language_info": {
   "codemirror_mode": {
    "name": "ipython",
    "version": 3
   },
   "file_extension": ".py",
   "mimetype": "text/x-python",
   "name": "python",
   "nbconvert_exporter": "python",
   "pygments_lexer": "ipython3",
   "version": "3.13.0"
  }
 },
 "nbformat": 4,
 "nbformat_minor": 5
}
