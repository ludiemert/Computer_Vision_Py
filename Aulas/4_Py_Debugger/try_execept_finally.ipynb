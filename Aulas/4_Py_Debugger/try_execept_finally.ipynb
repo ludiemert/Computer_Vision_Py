{
 "cells": [
  {
   "cell_type": "code",
   "execution_count": null,
   "id": "12624d66-038b-4d07-8786-fef270e3f0ea",
   "metadata": {},
   "outputs": [],
   "source": [
    "# comandos para proteger nosso codigo de erros:\n",
    "# try_execept_finally"
   ]
  }
 ],
 "metadata": {
  "kernelspec": {
   "display_name": "Python 3 (ipykernel)",
   "language": "python",
   "name": "python3"
  },
  "language_info": {
   "codemirror_mode": {
    "name": "ipython",
    "version": 3
   },
   "file_extension": ".py",
   "mimetype": "text/x-python",
   "name": "python",
   "nbconvert_exporter": "python",
   "pygments_lexer": "ipython3",
   "version": "3.13.0"
  }
 },
 "nbformat": 4,
 "nbformat_minor": 5
}
