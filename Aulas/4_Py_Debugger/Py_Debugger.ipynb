{
 "cells": [
  {
   "cell_type": "code",
   "execution_count": null,
   "id": "19b01d01-3198-46f7-9164-4f1f88d63c3f",
   "metadata": {},
   "outputs": [],
   "source": [
    "# Python Debugger"
   ]
  },
  {
   "cell_type": "code",
   "execution_count": null,
   "id": "8226ca19-231f-4b53-bafe-71a379cde069",
   "metadata": {},
   "outputs": [],
   "source": [
    "#!pip freeze # para ver as lib que tenho instaladas no py\n",
    "\n",
    "# Para instalar outras lib so digitar \n",
    "# !pip install\n",
    "\n",
    "# uma lib eh um conj de codig prontos e que outras pessoas podem usar, codig ja funcionais, todos podem criar uma lib\n",
    "# Conjuntos de códigos que é possível utilizar fragmentos desse código, como funções, classes etc, sem ter que programa-las manualmente.\n"
   ]
  },
  {
   "cell_type": "code",
   "execution_count": null,
   "id": "e56d5155-d39c-4960-8ee8-50debdd51c17",
   "metadata": {},
   "outputs": [],
   "source": [
    "# lib PDB\n",
    "# ele congela o codigo para analise de erro a lib pdb"
   ]
  },
  {
   "cell_type": "code",
   "execution_count": null,
   "id": "9d73ae46-d595-4834-8c7d-dcb77e28f515",
   "metadata": {},
   "outputs": [
    {
     "name": "stdout",
     "output_type": "stream",
     "text": [
      "5\n",
      "> \u001b[32mc:\\users\\user\\appdata\\local\\temp\\ipykernel_11604\\754379854.py\u001b[39m(\u001b[92m8\u001b[39m)\u001b[36m<module>\u001b[39m\u001b[34m()\u001b[39m\n",
      "\n"
     ]
    },
    {
     "name": "stdin",
     "output_type": "stream",
     "text": [
      "ipdb>  x\n"
     ]
    },
    {
     "name": "stdout",
     "output_type": "stream",
     "text": [
      "[1, 2, 3]\n"
     ]
    }
   ],
   "source": [
    "import pdb \n",
    "x = [1, 2, 3]\n",
    "y = 2\n",
    "z = 3\n",
    "\n",
    "print(z + y)\n",
    "\n",
    "pdb.set_trace()\n",
    "print(x + y)"
   ]
  },
  {
   "cell_type": "code",
   "execution_count": null,
   "id": "df605c98-e5be-4ec5-877b-2d4d06ed38ea",
   "metadata": {},
   "outputs": [],
   "source": [
    "# para nao quebrar o programa poderia usar o pdb para paralizar o codigo antes de executar a prox linha\n",
    "# abre um terminal para fazermos testes e encontrar um erro\n",
    "# na linha pode usar o comando c ele avanca a proxima linha \n",
    "# ou o comando q na linha para executar a exec do programa\n",
    "# ele vai congelar apartir desse codigo\n",
    "#pdb.set_tracel()\n",
    "#print(x + y)"
   ]
  }
 ],
 "metadata": {
  "kernelspec": {
   "display_name": "Python 3 (ipykernel)",
   "language": "python",
   "name": "python3"
  },
  "language_info": {
   "codemirror_mode": {
    "name": "ipython",
    "version": 3
   },
   "file_extension": ".py",
   "mimetype": "text/x-python",
   "name": "python",
   "nbconvert_exporter": "python",
   "pygments_lexer": "ipython3",
   "version": "3.13.0"
  }
 },
 "nbformat": 4,
 "nbformat_minor": 5
}
