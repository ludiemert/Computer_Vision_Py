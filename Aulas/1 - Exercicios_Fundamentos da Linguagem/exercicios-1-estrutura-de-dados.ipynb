{
 "cells": [
  {
   "cell_type": "markdown",
   "metadata": {},
   "source": [
    "<img src=\"https://asimov.academy/wp-content/uploads/2021/01/logo.png\" width=\"200\"/>\n",
    "_____________________________________________\n",
    "\n",
    "## Exercícios #1 - Estruturas de dados\n"
   ]
  },
  {
   "cell_type": "code",
   "execution_count": null,
   "metadata": {},
   "outputs": [],
   "source": []
  },
  {
   "cell_type": "markdown",
   "metadata": {},
   "source": [
    "### Exercício 1\n",
    "Utilizando o built-in method input(), crie um programa que receba a altura e o peso de uma pessoa e imprima na tela o IMC da mesma."
   ]
  },
  {
   "cell_type": "code",
   "execution_count": 10,
   "metadata": {},
   "outputs": [
    {
     "name": "stdout",
     "output_type": "stream",
     "text": [
      "Bem vindo a calculadora de IMC\n",
      "Por favor, informe sua altura:\n"
     ]
    },
    {
     "name": "stdin",
     "output_type": "stream",
     "text": [
      " 1.69\n"
     ]
    },
    {
     "name": "stdout",
     "output_type": "stream",
     "text": [
      "Por favor, informe seu peso:\n"
     ]
    },
    {
     "name": "stdin",
     "output_type": "stream",
     "text": [
      " 70\n"
     ]
    },
    {
     "name": "stdout",
     "output_type": "stream",
     "text": [
      "Calculando.....\n",
      "=============\n",
      "Seu IMC eh de: 24.51\n",
      "Seu IMC eh de: 24.508945765204302\n"
     ]
    }
   ],
   "source": [
    "### IMC = peso / altura ** 2\n",
    "\n",
    "import time\n",
    "\n",
    "print(\"Bem vindo a calculadora de IMC\")\n",
    "print(\"Por favor, informe sua altura:\")\n",
    "altura = float(input())\n",
    "\n",
    "print(\"Por favor, informe seu peso:\")\n",
    "peso = float(input())\n",
    "\n",
    "print(\"Calculando.....\")\n",
    "time.sleep(2)\n",
    "print(\"=============\")\n",
    "print(\"Seu IMC eh de: {:.2f}\".format(peso / altura **2))\n",
    "### {:.2f} valor em float com 2 casas decimais depois da virgula para mostrar o resultado\n",
    "print(\"Seu IMC eh de: {}\".format(peso / altura **2))\n",
    "\n"
   ]
  },
  {
   "cell_type": "code",
   "execution_count": 9,
   "metadata": {},
   "outputs": [
    {
     "data": {
      "text/plain": [
       "169.0"
      ]
     },
     "execution_count": 9,
     "metadata": {},
     "output_type": "execute_result"
    }
   ],
   "source": [
    "altura"
   ]
  },
  {
   "cell_type": "markdown",
   "metadata": {},
   "source": [
    "### Exercício 2 \n",
    "Escreva um programa que pergunte o nome completo do usuário e cumprimente o mesmo pelo primeiro nome."
   ]
  },
  {
   "cell_type": "code",
   "execution_count": 18,
   "metadata": {},
   "outputs": [
    {
     "name": "stdout",
     "output_type": "stream",
     "text": [
      "Qual seu nome completo? \n"
     ]
    },
    {
     "name": "stdin",
     "output_type": "stream",
     "text": [
      " luciana dienert\n"
     ]
    },
    {
     "name": "stdout",
     "output_type": "stream",
     "text": [
      "\n",
      "\n",
      "Ola, luciana, seja bem vinda!!🥰\n"
     ]
    }
   ],
   "source": [
    "print(\"Qual seu nome completo? \")\n",
    "nome = input()\n",
    "primeiro_nome = nome.split(\" \")[0]  ### pega o primeiro elemento\n",
    "print(\"\\n\")\n",
    "print(\"Ola, {}, seja bem vinda!!🥰\".format(primeiro_nome))"
   ]
  },
  {
   "cell_type": "markdown",
   "metadata": {},
   "source": [
    "### Exercício 3\n",
    "Desenho um código que extraia o domínio de um e-mail informado."
   ]
  },
  {
   "cell_type": "code",
   "execution_count": 20,
   "metadata": {},
   "outputs": [
    {
     "name": "stdout",
     "output_type": "stream",
     "text": [
      " Informe um e-mail: \n"
     ]
    },
    {
     "name": "stdin",
     "output_type": "stream",
     "text": [
      " luciana@gmail.com\n"
     ]
    },
    {
     "name": "stdout",
     "output_type": "stream",
     "text": [
      "\n",
      "\n",
      "O dominio informado foi 💌: gmail.com\n"
     ]
    }
   ],
   "source": [
    "print(\" Informe um e-mail: \")\n",
    "email = input()\n",
    "dominio = email.split(\"@\")[-1]  ### pega o ultimo elemento\n",
    "print(\"\\n\")\n",
    "print(\"O dominio informado foi 💌: {}\".format(dominio))"
   ]
  },
  {
   "cell_type": "markdown",
   "metadata": {},
   "source": [
    "### Exercício 4 \n",
    "Faça um programa para uma loja de tintas. A pessoa informa a área em m2 que deseja pintar, e o script calculará a quantidade de latas de tinta que a pessoa deve comprar e o valor. Considere que cada litro de tinta pinta 3m2, que cada lata contém 18L e que custa R$ 80."
   ]
  },
  {
   "cell_type": "code",
   "execution_count": 24,
   "metadata": {},
   "outputs": [
    {
     "name": "stdout",
     "output_type": "stream",
     "text": [
      "Bem vindo a loja de tintas!!\n",
      "Informe a area que voce deseja pintar em m2:\n"
     ]
    },
    {
     "name": "stdin",
     "output_type": "stream",
     "text": [
      " 180\n"
     ]
    },
    {
     "name": "stdout",
     "output_type": "stream",
     "text": [
      "Voce precisara de 3 latas e elas custaram 240 reais🤑.\n"
     ]
    }
   ],
   "source": [
    "print(\"Bem vindo a loja de tintas!!\")\n",
    "print(\"Informe a area que voce deseja pintar em m2:\")\n",
    "\n",
    "area = float(input()) ### pega o input e converte em float\n",
    "\n",
    "volume_necessario = area / 3\n",
    "latas = int(volume_necessario / 18) ##converter para inteiro e pegar o valor cheio int\n",
    "custo = latas * 80\n",
    "\n",
    "print(\"Voce precisara de {} latas e elas custaram {} reais🤑.\".format(latas, custo))\n",
    "\n",
    "\n"
   ]
  },
  {
   "cell_type": "markdown",
   "metadata": {},
   "source": [
    "### Exercício 5\n",
    "Faça um Programa que pergunte quanto você ganha por hora e o número de horas trabalhadas no mês. Calcule e mostre o total do seu salário no referido mês, sabendo-se que são descontados 11% para o Imposto de Renda, 8% para o INSS e 5% para o sindicato, faça um programa que nos dê:\n",
    "1. Salário bruto.\n",
    "2. Quanto pagou ao INSS.\n",
    "3. Quanto pagou ao sindicato.\n",
    "4. O salário líquido."
   ]
  },
  {
   "cell_type": "code",
   "execution_count": 26,
   "metadata": {},
   "outputs": [
    {
     "name": "stdout",
     "output_type": "stream",
     "text": [
      "Calculadora de salario:\n",
      "Informe sua remuneracao por horas:\n"
     ]
    },
    {
     "name": "stdin",
     "output_type": "stream",
     "text": [
      " 17\n"
     ]
    },
    {
     "name": "stdout",
     "output_type": "stream",
     "text": [
      "Informe quantas horas trabalhou por mes:\n"
     ]
    },
    {
     "name": "stdin",
     "output_type": "stream",
     "text": [
      " 200\n"
     ]
    },
    {
     "name": "stdout",
     "output_type": "stream",
     "text": [
      "=====================\n",
      "1 - Salario bruto: R$ 3400.00\n",
      "2 - Valor pago de IR: R$ 374.00\n",
      "3 - Valor pago de INSS: R$ 242.08\n",
      "4 - Valor pago de Sindicato: R$ 139.20\n",
      "5 - Salario liquido: R$ 2644.72\n"
     ]
    }
   ],
   "source": [
    "import time\n",
    "\n",
    "print(\"Calculadora de salario:\")\n",
    "print(\"Informe sua remuneracao por horas:\")\n",
    "valor_por_hora = float(input())\n",
    "\n",
    "print(\"Informe quantas horas trabalhou por mes:\")\n",
    "horas_trabalhadas = float(input())\n",
    "\n",
    "salario = valor_por_hora * horas_trabalhadas\n",
    "ir = salario * 0.11\n",
    "inss = (salario - ir) * 0.08\n",
    "sindicato = (salario - ir - inss) * 0.05\n",
    "\n",
    "print(\"=====================\")\n",
    "time.sleep(2)\n",
    "print(\"1 - Salario bruto: R$ {:.2f}\".format(salario))\n",
    "print(\"2 - Valor pago de IR: R$ {:.2f}\".format(ir))\n",
    "print(\"3 - Valor pago de INSS: R$ {:.2f}\".format(inss))\n",
    "print(\"4 - Valor pago de Sindicato: R$ {:.2f}\".format(sindicato))\n",
    "print(\"5 - Salario liquido: R$ {:.2f}\".format(salario - ir - inss - sindicato ))\n",
    "\n"
   ]
  },
  {
   "cell_type": "code",
   "execution_count": null,
   "metadata": {},
   "outputs": [],
   "source": []
  }
 ],
 "metadata": {
  "kernelspec": {
   "display_name": "Python 3 (ipykernel)",
   "language": "python",
   "name": "python3"
  },
  "language_info": {
   "codemirror_mode": {
    "name": "ipython",
    "version": 3
   },
   "file_extension": ".py",
   "mimetype": "text/x-python",
   "name": "python",
   "nbconvert_exporter": "python",
   "pygments_lexer": "ipython3",
   "version": "3.13.0"
  }
 },
 "nbformat": 4,
 "nbformat_minor": 4
}
