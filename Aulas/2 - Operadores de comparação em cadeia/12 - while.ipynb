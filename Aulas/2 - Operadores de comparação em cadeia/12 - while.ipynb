{
 "cells": [
  {
   "cell_type": "markdown",
   "id": "3d586f1e-be40-4cc2-8cb8-b2ecca922852",
   "metadata": {},
   "source": [
    "# while => enquanto for verdadeira execute o codigo abaixo"
   ]
  },
  {
   "cell_type": "code",
   "execution_count": 3,
   "id": "798c827b-df6e-4962-a405-fb0998b67312",
   "metadata": {
    "scrolled": true
   },
   "outputs": [
    {
     "name": "stdout",
     "output_type": "stream",
     "text": [
      "O valor de x eh: 0\n",
      "O valor de x eh: 1\n",
      "O valor de x eh: 2\n",
      "O valor de x eh: 3\n",
      "O valor de x eh: 4\n",
      "O valor de x eh: 5\n",
      "O valor de x eh: 6\n",
      "O valor de x eh: 7\n",
      "O valor de x eh: 8\n",
      "O valor de x eh: 9\n"
     ]
    }
   ],
   "source": [
    "x = 0\n",
    "\n",
    "while x < 10:\n",
    "    print(\"O valor de x eh: {}\".format(x))\n",
    "    x = x + 1 # x += 1"
   ]
  },
  {
   "cell_type": "code",
   "execution_count": 1,
   "id": "7d880f71-0464-4ed4-9685-a6753a134051",
   "metadata": {
    "scrolled": true
   },
   "outputs": [
    {
     "name": "stdout",
     "output_type": "stream",
     "text": [
      "O valor de x eh: 0\n",
      "O valor de x eh: 1\n",
      "O valor de x eh: 2\n",
      "O valor de x eh: 3\n",
      "O valor de x eh: 4\n",
      "O valor de x eh: 5\n",
      "O valor de x eh: 6\n",
      "O valor de x eh: 7\n",
      "O valor de x eh: 8\n",
      "O valor de x eh: 9\n"
     ]
    }
   ],
   "source": [
    "x = 0\n",
    "\n",
    "while x < 10:\n",
    "    print(\"O valor de x eh: {}\".format(x))\n",
    "    x += 1"
   ]
  },
  {
   "cell_type": "code",
   "execution_count": 2,
   "id": "de193cb9-9b8d-4dde-aa4f-aabcc85e8dd2",
   "metadata": {
    "scrolled": true
   },
   "outputs": [
    {
     "name": "stdout",
     "output_type": "stream",
     "text": [
      "O valor de x eh: 0\n",
      "X ainda eh menor que 10. Incrementando....\n",
      "O valor de x eh: 1\n",
      "X ainda eh menor que 10. Incrementando....\n",
      "O valor de x eh: 2\n",
      "X ainda eh menor que 10. Incrementando....\n",
      "O valor de x eh: 3\n",
      "X ainda eh menor que 10. Incrementando....\n",
      "O valor de x eh: 4\n",
      "X ainda eh menor que 10. Incrementando....\n",
      "O valor de x eh: 5\n",
      "X ainda eh menor que 10. Incrementando....\n",
      "O valor de x eh: 6\n",
      "X ainda eh menor que 10. Incrementando....\n",
      "O valor de x eh: 7\n",
      "X ainda eh menor que 10. Incrementando....\n",
      "O valor de x eh: 8\n",
      "X ainda eh menor que 10. Incrementando....\n",
      "O valor de x eh: 9\n",
      "X ainda eh menor que 10. Incrementando....\n",
      "Concluido....\n"
     ]
    }
   ],
   "source": [
    "x = 0\n",
    "\n",
    "while x < 10:\n",
    "    print(\"O valor de x eh: {}\".format(x))\n",
    "    print(\"X ainda eh menor que 10. Incrementando....\")\n",
    "    x += 1\n",
    "else:\n",
    "    print(\"Concluido....\")"
   ]
  },
  {
   "cell_type": "markdown",
   "id": "ace98a43-4497-4289-a7e3-90082d7fcfe5",
   "metadata": {},
   "source": [
    "# Palavras reservadas do PY para trab no while...else.... (CONTINUE = para oque esta abaixo e volta p cima)\n",
    "# CONTINUE = Ignora o que está após a linha em que for inserida e que estiver dentro do laço de repetição, reiniciando a operação do loop."
   ]
  },
  {
   "cell_type": "code",
   "execution_count": 4,
   "id": "f8e84f14-6b8c-4b9d-8b9c-c35e3895942e",
   "metadata": {
    "scrolled": true
   },
   "outputs": [
    {
     "name": "stdout",
     "output_type": "stream",
     "text": [
      "O valor de x eh: 0\n",
      "O valor de x eh: 1\n",
      "O valor de x eh: 2\n",
      "O valor de x eh: 3\n",
      "O valor de x eh: 4\n",
      "O valor de x eh: 5\n",
      "O valor de x eh: 6\n",
      "O valor de x eh: 7\n",
      "O valor de x eh: 8\n",
      "O valor de x eh: 9\n",
      "Concluido....\n"
     ]
    }
   ],
   "source": [
    "x = 0\n",
    "\n",
    "while x < 10:\n",
    "    print(\"O valor de x eh: {}\".format(x))\n",
    "    x += 1\n",
    "    continue\n",
    "    print(\"X ainda eh menor que 10. Incrementando....\") #com continue ele nao mostra isso aqui ate o else ou if....\n",
    "    x += 1\n",
    "else:\n",
    "    print(\"Concluido....\")"
   ]
  },
  {
   "cell_type": "markdown",
   "id": "210909d4-fa24-47ba-aa79-654232812a39",
   "metadata": {},
   "source": [
    "# Palavras reservadas do PY para trab no while...else.... (BREAK = interrompe o laco)\n",
    "# break => Continua para a próxima linha do código logo após o laço de repetição em que for inserida"
   ]
  },
  {
   "cell_type": "code",
   "execution_count": 5,
   "id": "09c11863-a1d1-4e06-9a3b-56dd737aa350",
   "metadata": {},
   "outputs": [
    {
     "name": "stdout",
     "output_type": "stream",
     "text": [
      "O valor de x eh: 0\n",
      "sai do laco....\n"
     ]
    }
   ],
   "source": [
    "x = 0\n",
    "\n",
    "while x < 10:\n",
    "    print(\"O valor de x eh: {}\".format(x))\n",
    "    x += 1\n",
    "    break #botao de liga e desliga\n",
    "    print(\"X ainda eh menor que 10. Incrementando....\")    \n",
    "   \n",
    "print(\"sai do laco....\")"
   ]
  },
  {
   "cell_type": "code",
   "execution_count": 6,
   "id": "b19b7f90-949b-43ff-994e-0bc4687c6d08",
   "metadata": {},
   "outputs": [
    {
     "name": "stdout",
     "output_type": "stream",
     "text": [
      "1\n"
     ]
    }
   ],
   "source": [
    "print(x)"
   ]
  },
  {
   "cell_type": "code",
   "execution_count": 7,
   "id": "80e1ad52-95e1-4a28-960d-c185c8a03f0c",
   "metadata": {},
   "outputs": [
    {
     "ename": "NameError",
     "evalue": "name 'iteravel' is not defined",
     "output_type": "error",
     "traceback": [
      "\u001b[1;31m---------------------------------------------------------------------------\u001b[0m",
      "\u001b[1;31mNameError\u001b[0m                                 Traceback (most recent call last)",
      "Cell \u001b[1;32mIn[7], line 1\u001b[0m\n\u001b[1;32m----> 1\u001b[0m \u001b[38;5;28;01mfor\u001b[39;00m variavel \u001b[38;5;129;01min\u001b[39;00m \u001b[43miteravel\u001b[49m:\n\u001b[0;32m      2\u001b[0m     codigo\n\u001b[0;32m      3\u001b[0m     codigo\n",
      "\u001b[1;31mNameError\u001b[0m: name 'iteravel' is not defined"
     ]
    }
   ],
   "source": [
    "for variavel in iteravel:\n",
    "    codigo\n",
    "    codigo\n",
    "    "
   ]
  },
  {
   "cell_type": "code",
   "execution_count": null,
   "id": "d8b8a320-6dfd-4e6c-ac46-ccbd3a144d9d",
   "metadata": {},
   "outputs": [],
   "source": [
    "while True:\n",
    "    codigo"
   ]
  }
 ],
 "metadata": {
  "kernelspec": {
   "display_name": "Python 3 (ipykernel)",
   "language": "python",
   "name": "python3"
  },
  "language_info": {
   "codemirror_mode": {
    "name": "ipython",
    "version": 3
   },
   "file_extension": ".py",
   "mimetype": "text/x-python",
   "name": "python",
   "nbconvert_exporter": "python",
   "pygments_lexer": "ipython3",
   "version": "3.13.0"
  }
 },
 "nbformat": 4,
 "nbformat_minor": 5
}
