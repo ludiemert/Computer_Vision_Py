{
 "cells": [
  {
   "cell_type": "markdown",
   "id": "7a0d84b3-c4e9-4e1c-b812-338cdc61eae1",
   "metadata": {},
   "source": [
    "# Funcoes redu a qtidade de cod que escrevemos\n",
    "# trechos de codig que sao reutilizaveis\n",
    "# para criar a funcao usa a palav reservada def"
   ]
  },
  {
   "cell_type": "code",
   "execution_count": 2,
   "id": "0c8abdff-9413-4d75-8296-5e6d51ec8dfd",
   "metadata": {},
   "outputs": [
    {
     "data": {
      "text/plain": [
       "6"
      ]
     },
     "execution_count": 2,
     "metadata": {},
     "output_type": "execute_result"
    }
   ],
   "source": [
    "len('string')"
   ]
  },
  {
   "cell_type": "code",
   "execution_count": 3,
   "id": "c28d3ace-5fa9-4ad9-9f2e-63b319a7f937",
   "metadata": {},
   "outputs": [
    {
     "data": {
      "text/plain": [
       "3"
      ]
     },
     "execution_count": 3,
     "metadata": {},
     "output_type": "execute_result"
    }
   ],
   "source": [
    "len([1,2,3])"
   ]
  },
  {
   "cell_type": "code",
   "execution_count": 4,
   "id": "ea84f187-5dc8-4a89-ba42-6c7be30b0d66",
   "metadata": {},
   "outputs": [
    {
     "data": {
      "text/plain": [
       "range(0, 10)"
      ]
     },
     "execution_count": 4,
     "metadata": {},
     "output_type": "execute_result"
    }
   ],
   "source": [
    "range(10)"
   ]
  },
  {
   "cell_type": "code",
   "execution_count": 5,
   "id": "8bd80ae7-e828-4d08-9a6c-ec07db851896",
   "metadata": {},
   "outputs": [],
   "source": [
    "def diga_ola():\n",
    "    a = 1 #nao serve p nada\n",
    "    print('Ola')"
   ]
  },
  {
   "cell_type": "code",
   "execution_count": 6,
   "id": "37e0d725-2c31-41b0-9703-80d8307b6fb7",
   "metadata": {},
   "outputs": [
    {
     "data": {
      "text/plain": [
       "<function __main__.diga_ola()>"
      ]
     },
     "execution_count": 6,
     "metadata": {},
     "output_type": "execute_result"
    }
   ],
   "source": [
    "diga_ola"
   ]
  },
  {
   "cell_type": "code",
   "execution_count": 7,
   "id": "4f043514-b884-4ccd-a7dc-1ddeee8cd3b4",
   "metadata": {},
   "outputs": [
    {
     "name": "stdout",
     "output_type": "stream",
     "text": [
      "Ola\n"
     ]
    }
   ],
   "source": [
    "diga_ola() #precisa do () para chamar a funcao"
   ]
  },
  {
   "cell_type": "code",
   "execution_count": 12,
   "id": "dc671f9d-b2da-45d3-831b-8f5ca196fd1b",
   "metadata": {},
   "outputs": [],
   "source": [
    "def diga_ola(nome):\n",
    "    a = 1 #nao serve p nada\n",
    "    print('Ola, {}.'.format(nome))"
   ]
  },
  {
   "cell_type": "code",
   "execution_count": 13,
   "id": "ea25f261-25a3-4d54-968c-55fc1af9bb2f",
   "metadata": {},
   "outputs": [
    {
     "name": "stdout",
     "output_type": "stream",
     "text": [
      "Ola, Julia.\n"
     ]
    }
   ],
   "source": [
    "diga_ola('Julia')"
   ]
  },
  {
   "cell_type": "code",
   "execution_count": 1,
   "id": "93e4deb3-9155-42f5-a242-c5c64103d86e",
   "metadata": {},
   "outputs": [],
   "source": [
    "# retorna todos os numeros impares\n",
    "\n",
    "def gerador_de_num_impar(x):\n",
    "    return [i for i in range(x) if i % 2 == 1] #o return se transforma na funcao"
   ]
  },
  {
   "cell_type": "code",
   "execution_count": 2,
   "id": "585fbb4a-c4ff-43be-a5b3-0e5648f40d54",
   "metadata": {},
   "outputs": [
    {
     "data": {
      "text/plain": [
       "<function __main__.gerador_de_num_impar(x)>"
      ]
     },
     "execution_count": 2,
     "metadata": {},
     "output_type": "execute_result"
    }
   ],
   "source": [
    "gerador_de_num_impar"
   ]
  },
  {
   "cell_type": "code",
   "execution_count": 3,
   "id": "1bdb1e4b-a4ab-424d-9364-c9d400ae203d",
   "metadata": {},
   "outputs": [
    {
     "data": {
      "text/plain": [
       "[1, 3, 5, 7, 9, 11, 13]"
      ]
     },
     "execution_count": 3,
     "metadata": {},
     "output_type": "execute_result"
    }
   ],
   "source": [
    "gerador_de_num_impar(15)"
   ]
  },
  {
   "cell_type": "code",
   "execution_count": 4,
   "id": "8a5b3c94-01cc-40ea-b1ae-b7f7fef48367",
   "metadata": {},
   "outputs": [
    {
     "data": {
      "text/plain": [
       "list"
      ]
     },
     "execution_count": 4,
     "metadata": {},
     "output_type": "execute_result"
    }
   ],
   "source": [
    "type(gerador_de_num_impar(15))"
   ]
  },
  {
   "cell_type": "code",
   "execution_count": 5,
   "id": "7cf2b0a0-9dcd-4dc3-a6c0-0ed926257436",
   "metadata": {},
   "outputs": [
    {
     "data": {
      "text/plain": [
       "function"
      ]
     },
     "execution_count": 5,
     "metadata": {},
     "output_type": "execute_result"
    }
   ],
   "source": [
    "type(gerador_de_num_impar)"
   ]
  },
  {
   "cell_type": "code",
   "execution_count": 6,
   "id": "185fb297-81c2-492c-afc6-d941d97ebce7",
   "metadata": {},
   "outputs": [],
   "source": [
    "#soma de dois numeros com funcao\n",
    "def add_num(num1, num2):\n",
    "    return num1+num2"
   ]
  },
  {
   "cell_type": "code",
   "execution_count": 7,
   "id": "b8692f7c-153b-457a-829f-b19a0be3bab5",
   "metadata": {},
   "outputs": [
    {
     "data": {
      "text/plain": [
       "30"
      ]
     },
     "execution_count": 7,
     "metadata": {},
     "output_type": "execute_result"
    }
   ],
   "source": [
    "add_num(10, 20)"
   ]
  },
  {
   "cell_type": "code",
   "execution_count": null,
   "id": "2ae6f965-5b9c-440e-ad84-30c23e5c543e",
   "metadata": {},
   "outputs": [],
   "source": []
  }
 ],
 "metadata": {
  "kernelspec": {
   "display_name": "Python 3 (ipykernel)",
   "language": "python",
   "name": "python3"
  },
  "language_info": {
   "codemirror_mode": {
    "name": "ipython",
    "version": 3
   },
   "file_extension": ".py",
   "mimetype": "text/x-python",
   "name": "python",
   "nbconvert_exporter": "python",
   "pygments_lexer": "ipython3",
   "version": "3.13.0"
  }
 },
 "nbformat": 4,
 "nbformat_minor": 5
}
