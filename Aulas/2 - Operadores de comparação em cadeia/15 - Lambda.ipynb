{
 "cells": [
  {
   "cell_type": "markdown",
   "id": "cf5c3735-da7c-409f-beae-aa3d317cb39a",
   "metadata": {},
   "source": [
    "# Funcoes lambda = funcoe em uma so linha ,funcoes mais simple"
   ]
  },
  {
   "cell_type": "code",
   "execution_count": 1,
   "id": "8f06b08d-dec0-4ebf-a06c-8678ca9e7d31",
   "metadata": {},
   "outputs": [],
   "source": [
    "def elevar_ao_quadrado(x):\n",
    "    return x ** 2"
   ]
  },
  {
   "cell_type": "code",
   "execution_count": 2,
   "id": "2832e253-b596-4d94-b276-874232bd05ea",
   "metadata": {},
   "outputs": [
    {
     "data": {
      "text/plain": [
       "100"
      ]
     },
     "execution_count": 2,
     "metadata": {},
     "output_type": "execute_result"
    }
   ],
   "source": [
    "elevar_ao_quadrado(10)"
   ]
  },
  {
   "cell_type": "code",
   "execution_count": 3,
   "id": "81336fda-184a-41e2-88aa-de9b06c83fae",
   "metadata": {},
   "outputs": [],
   "source": [
    "#agora processo lambda esse codigo eh a mesma coisa que acima\n",
    "a = lambda x: x ** 2\n"
   ]
  },
  {
   "cell_type": "code",
   "execution_count": 4,
   "id": "36d7b8b3-7b5c-4a8b-8e0c-4d897ee0b2fc",
   "metadata": {},
   "outputs": [
    {
     "data": {
      "text/plain": [
       "function"
      ]
     },
     "execution_count": 4,
     "metadata": {},
     "output_type": "execute_result"
    }
   ],
   "source": [
    "type(a)"
   ]
  },
  {
   "cell_type": "code",
   "execution_count": 5,
   "id": "5332b548-b74d-4bd6-9fa1-2e34e6d26743",
   "metadata": {},
   "outputs": [
    {
     "data": {
      "text/plain": [
       "10000"
      ]
     },
     "execution_count": 5,
     "metadata": {},
     "output_type": "execute_result"
    }
   ],
   "source": [
    "a(100)"
   ]
  },
  {
   "cell_type": "code",
   "execution_count": null,
   "id": "d876a7c6-632a-4490-80b5-e1bdf586cec3",
   "metadata": {},
   "outputs": [],
   "source": []
  }
 ],
 "metadata": {
  "kernelspec": {
   "display_name": "Python 3 (ipykernel)",
   "language": "python",
   "name": "python3"
  },
  "language_info": {
   "codemirror_mode": {
    "name": "ipython",
    "version": 3
   },
   "file_extension": ".py",
   "mimetype": "text/x-python",
   "name": "python",
   "nbconvert_exporter": "python",
   "pygments_lexer": "ipython3",
   "version": "3.13.0"
  }
 },
 "nbformat": 4,
 "nbformat_minor": 5
}
