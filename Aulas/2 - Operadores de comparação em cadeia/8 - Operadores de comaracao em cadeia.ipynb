{
 "cells": [
  {
   "cell_type": "markdown",
   "id": "b403b18a-5316-45ed-aaab-eff2bd5d2c55",
   "metadata": {},
   "source": [
    "## Operadores de comaracao em cadeia\n",
    "\n",
    "###  - combina multiplas perguntas"
   ]
  },
  {
   "cell_type": "code",
   "execution_count": 1,
   "id": "c69dcc7c-c6b1-4719-9422-15de7fb92514",
   "metadata": {},
   "outputs": [
    {
     "data": {
      "text/plain": [
       "False"
      ]
     },
     "execution_count": 1,
     "metadata": {},
     "output_type": "execute_result"
    }
   ],
   "source": [
    "1 > 2 > 3 # so responde true se todas forem verdadeiras, se uma sequencia for false tudo eh false"
   ]
  },
  {
   "cell_type": "code",
   "execution_count": 2,
   "id": "393743f2-eaf0-45bf-bb44-c406bb1d37b0",
   "metadata": {},
   "outputs": [
    {
     "data": {
      "text/plain": [
       "True"
      ]
     },
     "execution_count": 2,
     "metadata": {},
     "output_type": "execute_result"
    }
   ],
   "source": [
    "1 < 2 < 3"
   ]
  },
  {
   "cell_type": "code",
   "execution_count": 4,
   "id": "0a33109a-bd05-4fa3-b5ce-d6d2a7b67bae",
   "metadata": {},
   "outputs": [
    {
     "data": {
      "text/plain": [
       "True"
      ]
     },
     "execution_count": 4,
     "metadata": {},
     "output_type": "execute_result"
    }
   ],
   "source": [
    "2 > 1 and 3 > 2 # operadores AND as das condicoes tem que ser verdadeiras"
   ]
  },
  {
   "cell_type": "code",
   "execution_count": 5,
   "id": "ad1934c0-adae-49ff-91a7-67111761743e",
   "metadata": {},
   "outputs": [
    {
     "data": {
      "text/plain": [
       "True"
      ]
     },
     "execution_count": 5,
     "metadata": {},
     "output_type": "execute_result"
    }
   ],
   "source": [
    "2 > 1 or 3 > 2 # operadores OR se tiver uma verdadeira toda a estrutura ja eh verdadeira"
   ]
  },
  {
   "cell_type": "code",
   "execution_count": 7,
   "id": "3fbba18d-c2be-4e77-8124-25b032f4803f",
   "metadata": {},
   "outputs": [
    {
     "data": {
      "text/plain": [
       "True"
      ]
     },
     "execution_count": 7,
     "metadata": {},
     "output_type": "execute_result"
    }
   ],
   "source": [
    "3 > 1 or 2 > 2"
   ]
  },
  {
   "cell_type": "code",
   "execution_count": 8,
   "id": "e5ab5f82-fd65-4419-8107-d00a591972e4",
   "metadata": {},
   "outputs": [
    {
     "data": {
      "text/plain": [
       "True"
      ]
     },
     "execution_count": 8,
     "metadata": {},
     "output_type": "execute_result"
    }
   ],
   "source": [
    "(2 > 1 or 3 > 2) and (2 > 1 or 3 > 2) #primeiro o py ve oque tem dentro de (), "
   ]
  },
  {
   "cell_type": "code",
   "execution_count": 9,
   "id": "1d262c19-f9e7-4840-bbe5-f8224947a9f5",
   "metadata": {},
   "outputs": [
    {
     "data": {
      "text/plain": [
       "True"
      ]
     },
     "execution_count": 9,
     "metadata": {},
     "output_type": "execute_result"
    }
   ],
   "source": [
    "True and True"
   ]
  },
  {
   "cell_type": "code",
   "execution_count": null,
   "id": "e0e92021-bf27-4303-bd2c-488ed3952f50",
   "metadata": {},
   "outputs": [],
   "source": []
  }
 ],
 "metadata": {
  "kernelspec": {
   "display_name": "Python 3 (ipykernel)",
   "language": "python",
   "name": "python3"
  },
  "language_info": {
   "codemirror_mode": {
    "name": "ipython",
    "version": 3
   },
   "file_extension": ".py",
   "mimetype": "text/x-python",
   "name": "python",
   "nbconvert_exporter": "python",
   "pygments_lexer": "ipython3",
   "version": "3.13.0"
  }
 },
 "nbformat": 4,
 "nbformat_minor": 5
}
