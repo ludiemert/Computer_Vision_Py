{
 "cells": [
  {
   "cell_type": "markdown",
   "id": "aab0e7f1-fc00-4688-be91-f38213d569e7",
   "metadata": {},
   "source": [
    "#  FOR = esytrutura de laco => executar varios codigos em sequencia sem repetir eles"
   ]
  },
  {
   "cell_type": "code",
   "execution_count": 1,
   "id": "63cae5c9-5d5c-4773-ac43-e949eea56d7b",
   "metadata": {},
   "outputs": [
    {
     "data": {
      "text/plain": [
       "[0, 1, 2, 3, 4, 5, 6, 7, 8, 9]"
      ]
     },
     "execution_count": 1,
     "metadata": {},
     "output_type": "execute_result"
    }
   ],
   "source": [
    "list(range(10))"
   ]
  },
  {
   "cell_type": "code",
   "execution_count": 5,
   "id": "6a91e598-6af2-45a5-85bf-591c1b8b66ab",
   "metadata": {
    "scrolled": true
   },
   "outputs": [
    {
     "name": "stdout",
     "output_type": "stream",
     "text": [
      "0\n",
      "1\n",
      "2\n",
      "3\n",
      "4\n",
      "5\n",
      "6\n",
      "7\n",
      "8\n",
      "9\n"
     ]
    }
   ],
   "source": [
    "for i in range(10):\n",
    "    #print(\"ola\")\n",
    "    print(i)"
   ]
  },
  {
   "cell_type": "code",
   "execution_count": 6,
   "id": "c686ce91-91e8-4f05-b9fb-f2cc5b71634d",
   "metadata": {},
   "outputs": [
    {
     "name": "stdout",
     "output_type": "stream",
     "text": [
      "a\n",
      "b\n",
      "c\n"
     ]
    }
   ],
   "source": [
    "l = ['a', 'b', 'c']\n",
    "for i in l:\n",
    "    print(i)"
   ]
  },
  {
   "cell_type": "code",
   "execution_count": 7,
   "id": "c9294411-ded8-4270-82e9-246c13438833",
   "metadata": {},
   "outputs": [
    {
     "name": "stdout",
     "output_type": "stream",
     "text": [
      "Luciana\n"
     ]
    }
   ],
   "source": [
    "l = ['Luciana']\n",
    "for i in l:\n",
    "    print(i)"
   ]
  },
  {
   "cell_type": "code",
   "execution_count": 8,
   "id": "ae087e4b-5eab-42d3-8cc7-abc40023cee8",
   "metadata": {},
   "outputs": [
    {
     "name": "stdout",
     "output_type": "stream",
     "text": [
      "L\n",
      "u\n",
      "c\n",
      "i\n",
      "a\n",
      "n\n",
      "a\n"
     ]
    }
   ],
   "source": [
    "l = \"Luciana\"\n",
    "for i in l:\n",
    "    print(i)"
   ]
  },
  {
   "cell_type": "markdown",
   "id": "aaac3522-89cb-4e62-8aa7-f3b67c50bfd1",
   "metadata": {},
   "source": [
    "# resto da divisao => 1 Eh impar e 0 eh par"
   ]
  },
  {
   "cell_type": "code",
   "execution_count": 9,
   "id": "0c1bae29-1109-4c1b-835b-f92220f26dec",
   "metadata": {},
   "outputs": [
    {
     "data": {
      "text/plain": [
       "1"
      ]
     },
     "execution_count": 9,
     "metadata": {},
     "output_type": "execute_result"
    }
   ],
   "source": [
    "5 % 2"
   ]
  },
  {
   "cell_type": "markdown",
   "id": "75c6d497-e167-4cee-9fa2-dbbe4da466d9",
   "metadata": {},
   "source": [
    "# divisao"
   ]
  },
  {
   "cell_type": "code",
   "execution_count": 10,
   "id": "49478d57-fd4f-49fa-92e3-0c4c69a8f270",
   "metadata": {},
   "outputs": [
    {
     "data": {
      "text/plain": [
       "2.5"
      ]
     },
     "execution_count": 10,
     "metadata": {},
     "output_type": "execute_result"
    }
   ],
   "source": [
    "5 / 2"
   ]
  },
  {
   "cell_type": "markdown",
   "id": "67174379-479a-499a-a403-8929c1c4cb72",
   "metadata": {},
   "source": [
    "### se o resto da divisao for igual a 0 => if i % 2 == 0:\n",
    "### essa parte {} quer dizer oque eu quero que se encaixe dentro das () => print (\"{} eh par\".format(i))"
   ]
  },
  {
   "cell_type": "code",
   "execution_count": 13,
   "id": "26c18d28-3f0f-4813-8751-ce93c2343895",
   "metadata": {
    "scrolled": true
   },
   "outputs": [
    {
     "name": "stdout",
     "output_type": "stream",
     "text": [
      "0 eh par\n",
      "2 eh par\n",
      "4 eh par\n",
      "6 eh par\n",
      "8 eh par\n",
      "10 eh par\n",
      "12 eh par\n",
      "14 eh par\n",
      "16 eh par\n",
      "18 eh par\n",
      "20 eh par\n",
      "22 eh par\n",
      "24 eh par\n",
      "26 eh par\n",
      "28 eh par\n",
      "30 eh par\n",
      "32 eh par\n",
      "34 eh par\n",
      "36 eh par\n",
      "38 eh par\n",
      "40 eh par\n",
      "42 eh par\n",
      "44 eh par\n",
      "46 eh par\n",
      "48 eh par\n"
     ]
    }
   ],
   "source": [
    "for i in range(50):\n",
    "    if i % 2 == 0:\n",
    "        print(\"{} eh par\".format(i))"
   ]
  },
  {
   "cell_type": "code",
   "execution_count": null,
   "id": "97fae43e-5533-470f-8fe8-614361f4d2b5",
   "metadata": {},
   "outputs": [],
   "source": []
  }
 ],
 "metadata": {
  "kernelspec": {
   "display_name": "Python 3 (ipykernel)",
   "language": "python",
   "name": "python3"
  },
  "language_info": {
   "codemirror_mode": {
    "name": "ipython",
    "version": 3
   },
   "file_extension": ".py",
   "mimetype": "text/x-python",
   "name": "python",
   "nbconvert_exporter": "python",
   "pygments_lexer": "ipython3",
   "version": "3.13.0"
  }
 },
 "nbformat": 4,
 "nbformat_minor": 5
}
