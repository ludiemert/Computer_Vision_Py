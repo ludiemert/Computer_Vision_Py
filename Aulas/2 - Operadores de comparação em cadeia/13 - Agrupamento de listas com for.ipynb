{
 "cells": [
  {
   "cell_type": "markdown",
   "id": "662d32fb-1d34-4f66-bb20-ba6d75da5a32",
   "metadata": {},
   "source": [
    "# Compreensao em listas = agrupamento de listas com for"
   ]
  },
  {
   "cell_type": "markdown",
   "id": "cdc8528b-aeec-4eaa-ae67-22a895081cf8",
   "metadata": {},
   "source": [
    "# # rua = [x for x in 'paralelepipedo'] # Pega todas as letras em uma string"
   ]
  },
  {
   "cell_type": "code",
   "execution_count": 2,
   "id": "55b937ea-a421-45c9-85cf-edb8210a778f",
   "metadata": {},
   "outputs": [],
   "source": [
    "word = \"string\""
   ]
  },
  {
   "cell_type": "code",
   "execution_count": 3,
   "id": "5478a84d-46fc-4003-99fe-c3b1a128a680",
   "metadata": {},
   "outputs": [],
   "source": [
    "list_words = []\n",
    "for w in word:\n",
    "    list_words.append(w)"
   ]
  },
  {
   "cell_type": "code",
   "execution_count": 4,
   "id": "be69e206-31ed-42a2-a2f0-47436083a610",
   "metadata": {},
   "outputs": [
    {
     "data": {
      "text/plain": [
       "['s', 't', 'r', 'i', 'n', 'g']"
      ]
     },
     "execution_count": 4,
     "metadata": {},
     "output_type": "execute_result"
    }
   ],
   "source": [
    "list_words"
   ]
  },
  {
   "cell_type": "markdown",
   "id": "f8a6c00d-6983-4dfd-bbdb-a06f706d1dc0",
   "metadata": {},
   "source": [
    "# com compreensao em listas ficaria assim:"
   ]
  },
  {
   "cell_type": "code",
   "execution_count": 15,
   "id": "928f750d-4b88-451c-8978-818c5dc8f8a7",
   "metadata": {},
   "outputs": [],
   "source": [
    "list_words = [(w) for w in word] # ou  list_words = [w for w in word] "
   ]
  },
  {
   "cell_type": "code",
   "execution_count": 16,
   "id": "55425e33-2304-40d7-9073-083552422fae",
   "metadata": {},
   "outputs": [
    {
     "data": {
      "text/plain": [
       "['s', 't', 'r', 'i', 'n', 'g']"
      ]
     },
     "execution_count": 16,
     "metadata": {},
     "output_type": "execute_result"
    }
   ],
   "source": [
    "list_words"
   ]
  },
  {
   "cell_type": "code",
   "execution_count": 17,
   "id": "19818644-326a-49d9-a1bf-21e6259cd04c",
   "metadata": {},
   "outputs": [],
   "source": [
    "rua = [x for x in 'paralelepipedo'] # Pega todas as letras em uma string"
   ]
  },
  {
   "cell_type": "code",
   "execution_count": 18,
   "id": "ae97cd9f-d4eb-444c-9b19-e2d043cb37bd",
   "metadata": {},
   "outputs": [
    {
     "data": {
      "text/plain": [
       "['p', 'a', 'r', 'a', 'l', 'e', 'l', 'e', 'p', 'i', 'p', 'e', 'd', 'o']"
      ]
     },
     "execution_count": 18,
     "metadata": {},
     "output_type": "execute_result"
    }
   ],
   "source": [
    "rua"
   ]
  },
  {
   "cell_type": "code",
   "execution_count": 23,
   "id": "3ee423d2-243f-45e9-a47a-1b8755decd9a",
   "metadata": {},
   "outputs": [],
   "source": [
    "# Eleva o quadrado itens no range e o transformam em lista\n",
    "list_2 = [(x**2) for x in range(0,11)]"
   ]
  },
  {
   "cell_type": "code",
   "execution_count": 24,
   "id": "389dc90a-28bf-4318-a3f5-98b5485b3f38",
   "metadata": {},
   "outputs": [
    {
     "data": {
      "text/plain": [
       "[0, 1, 4, 9, 16, 25, 36, 49, 64, 81, 100]"
      ]
     },
     "execution_count": 24,
     "metadata": {},
     "output_type": "execute_result"
    }
   ],
   "source": [
    "list_2"
   ]
  },
  {
   "cell_type": "markdown",
   "id": "e707386d-7839-47a6-916b-c521c43e6c5d",
   "metadata": {},
   "source": [
    "# 0/2 (0 ao quadrado) = 0 , 1/2 = 2, 2/2=4, 3/2=9, 4/2=16, 5/2=25.....10/2=100 = X/2 num ao quadrado"
   ]
  },
  {
   "cell_type": "code",
   "execution_count": 25,
   "id": "df91d653-12c7-46be-a070-7e1788c9385c",
   "metadata": {},
   "outputs": [],
   "source": [
    "# Vamos ver como adicionar usando if:\n",
    "# Cria uma lista de números pares, utilizando para isso o if\n",
    "list_2 = [x for x in range(50) if x % 2 == 0] #se for divisivel por 2 e resto igual a 0 (ou retorna os num pares)"
   ]
  },
  {
   "cell_type": "code",
   "execution_count": 26,
   "id": "6300348a-bb5d-4cf9-89d8-4b33ac6f07b5",
   "metadata": {
    "scrolled": true
   },
   "outputs": [
    {
     "data": {
      "text/plain": [
       "[0,\n",
       " 2,\n",
       " 4,\n",
       " 6,\n",
       " 8,\n",
       " 10,\n",
       " 12,\n",
       " 14,\n",
       " 16,\n",
       " 18,\n",
       " 20,\n",
       " 22,\n",
       " 24,\n",
       " 26,\n",
       " 28,\n",
       " 30,\n",
       " 32,\n",
       " 34,\n",
       " 36,\n",
       " 38,\n",
       " 40,\n",
       " 42,\n",
       " 44,\n",
       " 46,\n",
       " 48]"
      ]
     },
     "execution_count": 26,
     "metadata": {},
     "output_type": "execute_result"
    }
   ],
   "source": [
    "list_2"
   ]
  },
  {
   "cell_type": "code",
   "execution_count": null,
   "id": "88fe8949-5297-478f-9a73-006b3fef2d34",
   "metadata": {},
   "outputs": [],
   "source": []
  }
 ],
 "metadata": {
  "kernelspec": {
   "display_name": "Python 3 (ipykernel)",
   "language": "python",
   "name": "python3"
  },
  "language_info": {
   "codemirror_mode": {
    "name": "ipython",
    "version": 3
   },
   "file_extension": ".py",
   "mimetype": "text/x-python",
   "name": "python",
   "nbconvert_exporter": "python",
   "pygments_lexer": "ipython3",
   "version": "3.13.0"
  }
 },
 "nbformat": 4,
 "nbformat_minor": 5
}
