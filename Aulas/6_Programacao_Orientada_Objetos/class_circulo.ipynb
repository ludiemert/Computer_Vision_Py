{
 "cells": [
  {
   "cell_type": "markdown",
   "id": "5b4ff950-56ba-488d-9e16-cd8c6a11c907",
   "metadata": {},
   "source": [
    "# class circulo"
   ]
  },
  {
   "cell_type": "markdown",
   "id": "71dd5e45-0159-48cc-9bf7-8f959bd9dc35",
   "metadata": {},
   "source": [
    "# raio=1 parametro pre definido, se nao passar nada eh definido como 1, \n",
    "# colocando 1 eh passar parametros de forma pre customizada\n",
    "# criando dois circulos C1 e C2"
   ]
  },
  {
   "cell_type": "code",
   "execution_count": 9,
   "id": "defdef6a-b422-48ce-b52e-ff354a0f81fd",
   "metadata": {},
   "outputs": [],
   "source": [
    "class Circle:\n",
    "    def __init__(self, raio=1):\n",
    "        self.raio = raio\n",
    "\n",
    "# metodo para criar area"
   ]
  },
  {
   "cell_type": "code",
   "execution_count": 10,
   "id": "c450bf52-35bc-4db3-82fe-5e159c7e1861",
   "metadata": {},
   "outputs": [],
   "source": [
    "c1 = Circle()\n",
    "c2 = Circle(2)"
   ]
  },
  {
   "cell_type": "code",
   "execution_count": 11,
   "id": "280fe6a9-a557-4817-a734-c952a2529786",
   "metadata": {},
   "outputs": [
    {
     "data": {
      "text/plain": [
       "1"
      ]
     },
     "execution_count": 11,
     "metadata": {},
     "output_type": "execute_result"
    }
   ],
   "source": [
    "c1.raio"
   ]
  },
  {
   "cell_type": "code",
   "execution_count": 13,
   "id": "43d1cb67-c8a9-479f-a66c-8a9679eaed05",
   "metadata": {},
   "outputs": [
    {
     "data": {
      "text/plain": [
       "2"
      ]
     },
     "execution_count": 13,
     "metadata": {},
     "output_type": "execute_result"
    }
   ],
   "source": [
    "c2.raio"
   ]
  },
  {
   "cell_type": "code",
   "execution_count": null,
   "id": "5cad3b22-ccce-4010-a034-bbfd39603c63",
   "metadata": {},
   "outputs": [],
   "source": []
  },
  {
   "cell_type": "code",
   "execution_count": null,
   "id": "fa9362a7-653a-4420-a438-d8829271fd96",
   "metadata": {},
   "outputs": [],
   "source": []
  }
 ],
 "metadata": {
  "kernelspec": {
   "display_name": "Python 3 (ipykernel)",
   "language": "python",
   "name": "python3"
  },
  "language_info": {
   "codemirror_mode": {
    "name": "ipython",
    "version": 3
   },
   "file_extension": ".py",
   "mimetype": "text/x-python",
   "name": "python",
   "nbconvert_exporter": "python",
   "pygments_lexer": "ipython3",
   "version": "3.13.0"
  }
 },
 "nbformat": 4,
 "nbformat_minor": 5
}
