{
 "cells": [
  {
   "cell_type": "code",
   "execution_count": null,
   "id": "3d362e4a-ead2-44c9-9267-b0a95f917eb1",
   "metadata": {},
   "outputs": [],
   "source": [
    "# criar o nosso proprio tipo de dados, quando fizer isso terei o atributo e o tipo \n",
    "# ex eh uma lista no PY"
   ]
  },
  {
   "cell_type": "code",
   "execution_count": 3,
   "id": "3146e18f-0c3d-4557-9182-a84436ffba8a",
   "metadata": {},
   "outputs": [
    {
     "name": "stdout",
     "output_type": "stream",
     "text": [
      "<class 'list'>\n"
     ]
    }
   ],
   "source": [
    "l = [1, 2, 3]\n",
    "print(type(l))\n"
   ]
  },
  {
   "cell_type": "code",
   "execution_count": 5,
   "id": "c98a4cde-36a7-4a5a-afe3-ec49e7bb2d60",
   "metadata": {},
   "outputs": [],
   "source": [
    "# aperta .+tab"
   ]
  },
  {
   "cell_type": "code",
   "execution_count": 6,
   "id": "b7713bb7-10b7-4709-8b0c-d4d61e25ac25",
   "metadata": {},
   "outputs": [
    {
     "data": {
      "text/plain": [
       "<function list.append(object, /)>"
      ]
     },
     "execution_count": 6,
     "metadata": {},
     "output_type": "execute_result"
    }
   ],
   "source": [
    "l.append "
   ]
  },
  {
   "cell_type": "code",
   "execution_count": null,
   "id": "22f93ab7-091f-4954-8e1a-55a1dfba76d6",
   "metadata": {},
   "outputs": [],
   "source": [
    "l."
   ]
  }
 ],
 "metadata": {
  "kernelspec": {
   "display_name": "Python 3 (ipykernel)",
   "language": "python",
   "name": "python3"
  },
  "language_info": {
   "codemirror_mode": {
    "name": "ipython",
    "version": 3
   },
   "file_extension": ".py",
   "mimetype": "text/x-python",
   "name": "python",
   "nbconvert_exporter": "python",
   "pygments_lexer": "ipython3",
   "version": "3.13.0"
  }
 },
 "nbformat": 4,
 "nbformat_minor": 5
}
