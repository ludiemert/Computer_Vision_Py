{
 "cells": [
  {
   "cell_type": "markdown",
   "id": "6ae0ef6a-ac13-4e9b-a910-6ec383a1f0f7",
   "metadata": {},
   "source": [
    "# criar o nosso proprio tipo de dados, quando fizer isso terei o atributo e o tipo \n",
    "# ex eh uma lista no PY"
   ]
  },
  {
   "cell_type": "code",
   "execution_count": 12,
   "id": "3146e18f-0c3d-4557-9182-a84436ffba8a",
   "metadata": {},
   "outputs": [
    {
     "name": "stdout",
     "output_type": "stream",
     "text": [
      "<class 'list'>\n"
     ]
    }
   ],
   "source": [
    "l = [1, 2, 3]\n",
    "print(type(l))\n"
   ]
  },
  {
   "cell_type": "markdown",
   "id": "08130034-fd18-4ac5-b4cc-d5080147a2e0",
   "metadata": {},
   "source": [
    "# aperta .+tab sao acoes que podemos operar com elas"
   ]
  },
  {
   "cell_type": "code",
   "execution_count": 13,
   "id": "b7713bb7-10b7-4709-8b0c-d4d61e25ac25",
   "metadata": {},
   "outputs": [],
   "source": [
    "l.append(4)"
   ]
  },
  {
   "cell_type": "markdown",
   "id": "4a2ee7fd-4fc6-4fb9-8de4-d9a588830a11",
   "metadata": {},
   "source": [
    "# obj da classe string => <class 'str'>"
   ]
  },
  {
   "cell_type": "code",
   "execution_count": 14,
   "id": "f4ca1eb0-0e1b-4bea-96dc-40bd1b2b3dd3",
   "metadata": {},
   "outputs": [
    {
     "name": "stdout",
     "output_type": "stream",
     "text": [
      "<class 'str'>\n"
     ]
    }
   ],
   "source": [
    "string_ = \"str\"\n",
    "print(type(string_))"
   ]
  },
  {
   "cell_type": "markdown",
   "id": "d4cf202d-a3d3-489e-b9c9-8bb3b653b894",
   "metadata": {},
   "source": [
    "# PARA CRIAR NOSSO PROPRIO TIPO DE DADO => class => nosso obj Exemplo"
   ]
  },
  {
   "cell_type": "code",
   "execution_count": 22,
   "id": "fca12452-e54c-450d-81f4-7a24126f640f",
   "metadata": {},
   "outputs": [],
   "source": [
    "class Exemplo:\n",
    "    pass"
   ]
  },
  {
   "cell_type": "markdown",
   "id": "47854ba2-c205-40e1-b3da-03e1c373d491",
   "metadata": {},
   "source": [
    "# criando um obj do tipo exemplo"
   ]
  },
  {
   "cell_type": "code",
   "execution_count": 26,
   "id": "e07c13fa-7129-44fe-8788-2547e3de7628",
   "metadata": {},
   "outputs": [
    {
     "name": "stdout",
     "output_type": "stream",
     "text": [
      "<class '__main__.Exemplo'>\n"
     ]
    }
   ],
   "source": [
    "x = Exemplo()\n",
    "print(type(x))\n",
    "# classe do tipo main\n"
   ]
  },
  {
   "cell_type": "code",
   "execution_count": null,
   "id": "84ca419a-3e6e-4a12-9c43-6dd75e30ce24",
   "metadata": {},
   "outputs": [],
   "source": []
  }
 ],
 "metadata": {
  "kernelspec": {
   "display_name": "Python 3 (ipykernel)",
   "language": "python",
   "name": "python3"
  },
  "language_info": {
   "codemirror_mode": {
    "name": "ipython",
    "version": 3
   },
   "file_extension": ".py",
   "mimetype": "text/x-python",
   "name": "python",
   "nbconvert_exporter": "python",
   "pygments_lexer": "ipython3",
   "version": "3.13.0"
  }
 },
 "nbformat": 4,
 "nbformat_minor": 5
}
