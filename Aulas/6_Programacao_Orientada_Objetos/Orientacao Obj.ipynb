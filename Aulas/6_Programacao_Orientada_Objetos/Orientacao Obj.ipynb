{
 "cells": [
  {
   "cell_type": "code",
   "execution_count": null,
   "id": "3d362e4a-ead2-44c9-9267-b0a95f917eb1",
   "metadata": {},
   "outputs": [],
   "source": [
    "# criar o nosso proprio tipo de dados, quando fizer isso terei o atributo e o tipo \n",
    "# ex eh uma lista no PY"
   ]
  },
  {
   "cell_type": "code",
   "execution_count": 12,
   "id": "3146e18f-0c3d-4557-9182-a84436ffba8a",
   "metadata": {},
   "outputs": [
    {
     "name": "stdout",
     "output_type": "stream",
     "text": [
      "<class 'list'>\n"
     ]
    }
   ],
   "source": [
    "l = [1, 2, 3]\n",
    "print(type(l))\n"
   ]
  },
  {
   "cell_type": "code",
   "execution_count": 5,
   "id": "c98a4cde-36a7-4a5a-afe3-ec49e7bb2d60",
   "metadata": {},
   "outputs": [],
   "source": [
    "# aperta .+tab sao acoes que podemos operar com elas"
   ]
  },
  {
   "cell_type": "code",
   "execution_count": 13,
   "id": "b7713bb7-10b7-4709-8b0c-d4d61e25ac25",
   "metadata": {},
   "outputs": [],
   "source": [
    "l.append(4)"
   ]
  },
  {
   "cell_type": "code",
   "execution_count": null,
   "id": "a1347286-6901-457f-a585-3e39411c182f",
   "metadata": {},
   "outputs": [],
   "source": [
    "# obj da classe string => <class 'str'>"
   ]
  },
  {
   "cell_type": "code",
   "execution_count": 14,
   "id": "f4ca1eb0-0e1b-4bea-96dc-40bd1b2b3dd3",
   "metadata": {},
   "outputs": [
    {
     "name": "stdout",
     "output_type": "stream",
     "text": [
      "<class 'str'>\n"
     ]
    }
   ],
   "source": [
    "string_ = \"str\"\n",
    "print(type(string_))"
   ]
  },
  {
   "cell_type": "code",
   "execution_count": null,
   "id": "399dd8ef-a07b-4904-a775-b637b6ef6b3c",
   "metadata": {},
   "outputs": [],
   "source": []
  }
 ],
 "metadata": {
  "kernelspec": {
   "display_name": "Python 3 (ipykernel)",
   "language": "python",
   "name": "python3"
  },
  "language_info": {
   "codemirror_mode": {
    "name": "ipython",
    "version": 3
   },
   "file_extension": ".py",
   "mimetype": "text/x-python",
   "name": "python",
   "nbconvert_exporter": "python",
   "pygments_lexer": "ipython3",
   "version": "3.13.0"
  }
 },
 "nbformat": 4,
 "nbformat_minor": 5
}
