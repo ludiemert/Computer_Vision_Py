{
 "cells": [
  {
   "cell_type": "markdown",
   "id": "ad6c1cf5-1f95-48c4-aa7e-509490ec30b9",
   "metadata": {},
   "source": [
    "# criando class pet"
   ]
  },
  {
   "cell_type": "markdown",
   "id": "97b9cecd-0d36-4b6e-aa89-b9163e638180",
   "metadata": {},
   "source": [
    "# sempre passar o self como primeiro argumento da sua funcao\n",
    "# init => eh uma funcao de inicializacao\n",
    "# atributo dentro da classe self.idade ASSIM CRIA ATRIBUTO DENTRO DA CLASSE TODA VEZ A IDADE SERA 10\n",
    "# Self sempre vem na frente do methodo"
   ]
  },
  {
   "cell_type": "code",
   "execution_count": 22,
   "id": "0e46fa94-f3d8-4cb0-b323-77c3f289734a",
   "metadata": {},
   "outputs": [],
   "source": [
    "class Dog:\n",
    "    def __init__(self, raca): # passar atributos para nossa classe (raca)\n",
    "        self.raca = raca\n",
    "        self.idade = 10"
   ]
  },
  {
   "cell_type": "code",
   "execution_count": 23,
   "id": "1b2a81dd-3ae5-4a53-85cc-2b963ad9ba7f",
   "metadata": {},
   "outputs": [],
   "source": [
    "dog = Dog(\"Lab\")\n",
    "dog2 = Dog(\"Huskie\")"
   ]
  },
  {
   "cell_type": "code",
   "execution_count": 20,
   "id": "30d1fcad-8880-42fc-8b4f-4cae6bcad898",
   "metadata": {},
   "outputs": [
    {
     "data": {
      "text/plain": [
       "11"
      ]
     },
     "execution_count": 20,
     "metadata": {},
     "output_type": "execute_result"
    }
   ],
   "source": [
    "# dog.idade = 11 # uma variavel que so existe dentro do obj Dog\n",
    "# dog.idade"
   ]
  },
  {
   "cell_type": "code",
   "execution_count": 21,
   "id": "d696d7a4-a499-4efc-b428-ec1f510bf234",
   "metadata": {},
   "outputs": [
    {
     "data": {
      "text/plain": [
       "10"
      ]
     },
     "execution_count": 21,
     "metadata": {},
     "output_type": "execute_result"
    }
   ],
   "source": [
    "#dog2.idade"
   ]
  },
  {
   "cell_type": "code",
   "execution_count": 25,
   "id": "6ddd61d9-9388-4aa7-ae16-d0b46cc90817",
   "metadata": {},
   "outputs": [
    {
     "name": "stdout",
     "output_type": "stream",
     "text": [
      "10\n",
      "Lab\n"
     ]
    }
   ],
   "source": [
    "print(dog.idade)\n",
    "print(dog.raca)"
   ]
  },
  {
   "cell_type": "code",
   "execution_count": 26,
   "id": "01451917-15ef-4b9d-8d69-fdfa6bb9333e",
   "metadata": {},
   "outputs": [
    {
     "name": "stdout",
     "output_type": "stream",
     "text": [
      "10\n",
      "Huskie\n"
     ]
    }
   ],
   "source": [
    "print(dog2.idade)\n",
    "print(dog2.raca)"
   ]
  },
  {
   "cell_type": "code",
   "execution_count": null,
   "id": "82e70f68-1848-4741-b878-188fc33afcc4",
   "metadata": {},
   "outputs": [],
   "source": []
  }
 ],
 "metadata": {
  "kernelspec": {
   "display_name": "Python 3 (ipykernel)",
   "language": "python",
   "name": "python3"
  },
  "language_info": {
   "codemirror_mode": {
    "name": "ipython",
    "version": 3
   },
   "file_extension": ".py",
   "mimetype": "text/x-python",
   "name": "python",
   "nbconvert_exporter": "python",
   "pygments_lexer": "ipython3",
   "version": "3.13.0"
  }
 },
 "nbformat": 4,
 "nbformat_minor": 5
}
