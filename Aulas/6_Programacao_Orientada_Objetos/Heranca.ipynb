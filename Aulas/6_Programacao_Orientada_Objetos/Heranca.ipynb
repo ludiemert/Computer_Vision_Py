{
 "cells": [
  {
   "cell_type": "markdown",
   "id": "a86d6013-dd0e-4901-8ec0-736f76b8c5d5",
   "metadata": {},
   "source": [
    "# Heranca\n",
    "# extrai oque tem de igual e faz so as mudancas no cod"
   ]
  },
  {
   "cell_type": "code",
   "execution_count": null,
   "id": "fa3bca46-df6e-4b9e-bf89-1a4915564f90",
   "metadata": {},
   "outputs": [],
   "source": [
    "# classe com 3 methodos, print na tela qdo sao chamados\n",
    "class Animal:\n",
    "    def __init__(self):\n",
    "        print(\"Animal criado\")\n",
    "\n",
    "    def quem_sou_eu(self):\n",
    "        print(\"Eu sou u animal.\")\n",
    "\n",
    "    def comer(self):\n",
    "        print(\"comendo....\")"
   ]
  }
 ],
 "metadata": {
  "kernelspec": {
   "display_name": "Python 3 (ipykernel)",
   "language": "python",
   "name": "python3"
  },
  "language_info": {
   "codemirror_mode": {
    "name": "ipython",
    "version": 3
   },
   "file_extension": ".py",
   "mimetype": "text/x-python",
   "name": "python",
   "nbconvert_exporter": "python",
   "pygments_lexer": "ipython3",
   "version": "3.13.0"
  }
 },
 "nbformat": 4,
 "nbformat_minor": 5
}
