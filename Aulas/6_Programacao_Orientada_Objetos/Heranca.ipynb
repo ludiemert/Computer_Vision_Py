{
 "cells": [
  {
   "cell_type": "markdown",
   "id": "a86d6013-dd0e-4901-8ec0-736f76b8c5d5",
   "metadata": {},
   "source": [
    "# Heranca\n",
    "# extrai oque tem de igual e faz so as mudancas no cod"
   ]
  },
  {
   "cell_type": "code",
   "execution_count": 10,
   "id": "fa3bca46-df6e-4b9e-bf89-1a4915564f90",
   "metadata": {},
   "outputs": [],
   "source": [
    "# classe com 3 methodos, print na tela qdo sao chamados\n",
    "class Animal:\n",
    "    def __init__(self):\n",
    "        print(\"Animal criado\")\n",
    "\n",
    "    def quem_sou_eu(self):\n",
    "        print(\"Eu sou um animal.\")\n",
    "\n",
    "    def comer(self):\n",
    "        print(\"comendo....\")\n",
    "\n",
    "#para fazer method de heranca vamos fazer a classe Dog\n",
    "class Cachorro(Animal): #cachorro esta herdando todos os tributos, coisas que a classe animal tem\n",
    "    def __init__(self):   # instanciar a classe cachorro\n",
    "   #def quem_sou_eu(self):\n",
    "        #print(\"I`m dog....\")\n",
    "        Animal.__init__(self)\n",
    "        print(\"I am a dog 🤷‍♂️\")\n",
    "\n",
    "    def quem_sou_eum(self):\n",
    "        print(\"I ammmm...a dog....\")"
   ]
  },
  {
   "cell_type": "code",
   "execution_count": 11,
   "id": "32792f9e-2e1a-46c2-989b-398e66a9f718",
   "metadata": {},
   "outputs": [
    {
     "name": "stdout",
     "output_type": "stream",
     "text": [
      "Animal criado\n"
     ]
    }
   ],
   "source": [
    "animal = Animal()"
   ]
  },
  {
   "cell_type": "code",
   "execution_count": 12,
   "id": "266c6eee-f967-4142-849f-73717ddfab3b",
   "metadata": {},
   "outputs": [
    {
     "name": "stdout",
     "output_type": "stream",
     "text": [
      "Eu sou um animal.\n"
     ]
    }
   ],
   "source": [
    "animal.quem_sou_eu()"
   ]
  },
  {
   "cell_type": "code",
   "execution_count": 13,
   "id": "33431494-ab1b-435f-ad0a-7b9786d46bca",
   "metadata": {},
   "outputs": [
    {
     "name": "stdout",
     "output_type": "stream",
     "text": [
      "Animal criado\n",
      "I am a dog 🤷‍♂️\n"
     ]
    }
   ],
   "source": [
    "dog = Cachorro()"
   ]
  },
  {
   "cell_type": "code",
   "execution_count": 9,
   "id": "90b454cd-4a32-472d-9b40-43ab2aa9eea2",
   "metadata": {},
   "outputs": [
    {
     "name": "stdout",
     "output_type": "stream",
     "text": [
      "I`m dog....\n"
     ]
    }
   ],
   "source": [
    "dog.quem_sou_eu()"
   ]
  },
  {
   "cell_type": "code",
   "execution_count": null,
   "id": "46705190-407c-4b91-9ed8-679bbb124f11",
   "metadata": {},
   "outputs": [],
   "source": []
  }
 ],
 "metadata": {
  "kernelspec": {
   "display_name": "Python 3 (ipykernel)",
   "language": "python",
   "name": "python3"
  },
  "language_info": {
   "codemirror_mode": {
    "name": "ipython",
    "version": 3
   },
   "file_extension": ".py",
   "mimetype": "text/x-python",
   "name": "python",
   "nbconvert_exporter": "python",
   "pygments_lexer": "ipython3",
   "version": "3.13.0"
  }
 },
 "nbformat": 4,
 "nbformat_minor": 5
}
