{
 "cells": [
  {
   "cell_type": "markdown",
   "id": "a31df68e-cac3-4730-af13-1ff016fd2c65",
   "metadata": {},
   "source": [
    "# class Book Heranca"
   ]
  },
  {
   "cell_type": "code",
   "execution_count": 7,
   "id": "a657c394-b03e-4d46-80c1-e3ae4dd400b5",
   "metadata": {},
   "outputs": [],
   "source": [
    "class Book(object):\n",
    "    def __init__(self, title, autor, pages): # method init\n",
    "        print(\"The Book is created....🥳\")\n",
    "        self.title = title\n",
    "        self.autor = autor\n",
    "        self.pages = pages\n",
    "\n",
    "    def __str__(self):\n",
    "        return \"Title:%s , author:%s, pages:%s \" %(self.title, self.autor, self.pages)\n",
    "\n",
    "    def __len__(self): # devolve aqtidade de pagina\n",
    "        return self.pages\n",
    "\n",
    "    def __del__(self):\n",
    "        print(\"A book is destroyed...\")"
   ]
  },
  {
   "cell_type": "code",
   "execution_count": 8,
   "id": "8d6407d5-f9a6-4712-bc32-065e222e4e64",
   "metadata": {},
   "outputs": [
    {
     "name": "stdout",
     "output_type": "stream",
     "text": [
      "The Book is created....🥳\n",
      "Title:O Senhor dos Anéis , author:J.R.R. Tolkien, pages:1000 \n",
      "Número de páginas: 1000\n"
     ]
    }
   ],
   "source": [
    "# Criando um objeto\n",
    "my_book = Book(\"O Senhor dos Anéis\", \"J.R.R. Tolkien\", 1000)\n",
    "\n",
    "# Exibindo o objeto (chama __str__)\n",
    "print(my_book)\n",
    "\n",
    "# Verificando o comprimento (chama __len__)\n",
    "print(\"Número de páginas:\", len(my_book))"
   ]
  },
  {
   "cell_type": "code",
   "execution_count": null,
   "id": "121ffba4-e019-4c9e-b75d-58803d1bb922",
   "metadata": {},
   "outputs": [],
   "source": []
  }
 ],
 "metadata": {
  "kernelspec": {
   "display_name": "Python 3 (ipykernel)",
   "language": "python",
   "name": "python3"
  },
  "language_info": {
   "codemirror_mode": {
    "name": "ipython",
    "version": 3
   },
   "file_extension": ".py",
   "mimetype": "text/x-python",
   "name": "python",
   "nbconvert_exporter": "python",
   "pygments_lexer": "ipython3",
   "version": "3.13.0"
  }
 },
 "nbformat": 4,
 "nbformat_minor": 5
}
