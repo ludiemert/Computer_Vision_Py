{
 "cells": [
  {
   "cell_type": "markdown",
   "id": "a31df68e-cac3-4730-af13-1ff016fd2c65",
   "metadata": {},
   "source": [
    "# class Book Heranca"
   ]
  },
  {
   "cell_type": "code",
   "execution_count": null,
   "id": "a657c394-b03e-4d46-80c1-e3ae4dd400b5",
   "metadata": {},
   "outputs": [],
   "source": [
    "class Book(object):\n",
    "    def __init__(self, title, autor, pages): # method init\n",
    "        print(\"The Book is created....🥳\")\n",
    "        self.title = title\n",
    "        self.autor = autor\n",
    "        self.pages = pages\n",
    "\n",
    "    def __str__(self): # metodho str, \n",
    "        return \"Title:%s , autthor:%s, pages:%s \" %(self.title, self.author, self.pages)\n",
    "\n",
    "    def __len__(self):\n",
    "        return self.pages\n",
    "\n",
    "    def __del__(self):\n",
    "        print(\"A book is destroyed...\")"
   ]
  }
 ],
 "metadata": {
  "kernelspec": {
   "display_name": "Python 3 (ipykernel)",
   "language": "python",
   "name": "python3"
  },
  "language_info": {
   "codemirror_mode": {
    "name": "ipython",
    "version": 3
   },
   "file_extension": ".py",
   "mimetype": "text/x-python",
   "name": "python",
   "nbconvert_exporter": "python",
   "pygments_lexer": "ipython3",
   "version": "3.13.0"
  }
 },
 "nbformat": 4,
 "nbformat_minor": 5
}
